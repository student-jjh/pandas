{
 "metadata": {
  "language_info": {
   "codemirror_mode": {
    "name": "ipython",
    "version": 3
   },
   "file_extension": ".py",
   "mimetype": "text/x-python",
   "name": "python",
   "nbconvert_exporter": "python",
   "pygments_lexer": "ipython3",
   "version": "3.9.0"
  },
  "orig_nbformat": 2,
  "kernelspec": {
   "name": "python390jvsc74a57bd0aee8b7b246df8f9039afb4144a1f6fd8d2ca17a180786b69acc140d282b71a49",
   "display_name": "Python 3.9.0 64-bit"
  },
  "metadata": {
   "interpreter": {
    "hash": "aee8b7b246df8f9039afb4144a1f6fd8d2ca17a180786b69acc140d282b71a49"
   }
  }
 },
 "nbformat": 4,
 "nbformat_minor": 2,
 "cells": [
  {
   "source": [
    "import pandas as pd \n",
    "s=pd.Series(['banaan',42])\n",
    "s2=pd.Series(['Wes McKinney','Creator of Pandas'],index=['Person',\"who\"])\n",
    "print(s)\n",
    "print(s2)"
   ],
   "cell_type": "code",
   "metadata": {},
   "execution_count": null,
   "outputs": []
  },
  {
   "cell_type": "code",
   "execution_count": 4,
   "metadata": {},
   "outputs": [
    {
     "output_type": "stream",
     "name": "stdout",
     "text": [
      "                Name   Occupation        Born        Died  Age\n0  Rosaline Franklin      Chemist  1920-07-25  1958-04-16   37\n1     William Gosset  Statisician  1876-06-13  1937-10-16   61\n"
     ]
    }
   ],
   "source": [
    "scientists=pd.DataFrame({'Name':['Rosaline Franklin','William Gosset'],'Occupation':['Chemist','Statisician'],'Born':['1920-07-25','1876-06-13'],'Died':['1958-04-16','1937-10-16'],'Age':[37,61]})\n",
    "print(scientists)\n"
   ]
  },
  {
   "cell_type": "code",
   "execution_count": 5,
   "metadata": {},
   "outputs": [
    {
     "output_type": "stream",
     "name": "stdout",
     "text": [
      "                    Occupation        Born        Died  Age\nRosaline Franklin      Chemist  1920-07-25  1958-04-16   37\nWilliam Gosset     Statisician  1876-06-13  1937-10-16   61\n"
     ]
    }
   ],
   "source": [
    "scientists2=pd.DataFrame(data={'Occupation':['Chemist','Statisician'],'Born':['1920-07-25','1876-06-13'],'Died':['1958-04-16','1937-10-16'],'Age':[37,61]},index=['Rosaline Franklin','William Gosset'],columns=[\"Occupation\",\"Born\",\"Died\",\"Age\"])\n",
    "print(scientists2)"
   ]
  },
  {
   "cell_type": "code",
   "execution_count": 6,
   "metadata": {},
   "outputs": [
    {
     "output_type": "stream",
     "name": "stdout",
     "text": [
      "<class 'pandas.core.series.Series'>\n"
     ]
    }
   ],
   "source": [
    "frist_row =scientists2.loc['William Gosset']\n",
    "print(type(frist_row))"
   ]
  },
  {
   "cell_type": "code",
   "execution_count": 7,
   "metadata": {},
   "outputs": [
    {
     "output_type": "stream",
     "name": "stdout",
     "text": [
      "Occupation    Statisician\nBorn           1876-06-13\nDied           1937-10-16\nAge                    61\nName: William Gosset, dtype: object\n"
     ]
    }
   ],
   "source": [
    "print(frist_row)"
   ]
  },
  {
   "cell_type": "code",
   "execution_count": 8,
   "metadata": {},
   "outputs": [
    {
     "output_type": "stream",
     "name": "stdout",
     "text": [
      "Index(['Occupation', 'Born', 'Died', 'Age'], dtype='object')\n"
     ]
    }
   ],
   "source": [
    "print(frist_row.index)"
   ]
  },
  {
   "cell_type": "code",
   "execution_count": 9,
   "metadata": {},
   "outputs": [
    {
     "output_type": "stream",
     "name": "stdout",
     "text": [
      "['Statisician' '1876-06-13' '1937-10-16' 61]\n"
     ]
    }
   ],
   "source": [
    "print(frist_row.values)"
   ]
  },
  {
   "cell_type": "code",
   "execution_count": 10,
   "metadata": {},
   "outputs": [
    {
     "output_type": "stream",
     "name": "stdout",
     "text": [
      "Rosaline Franklin    37\nWilliam Gosset       61\nName: Age, dtype: int64\n"
     ]
    }
   ],
   "source": [
    "ages=scientists2['Age']\n",
    "print(ages)"
   ]
  },
  {
   "cell_type": "code",
   "execution_count": 11,
   "metadata": {},
   "outputs": [
    {
     "output_type": "stream",
     "name": "stdout",
     "text": [
      "49.0\n"
     ]
    }
   ],
   "source": [
    "print(ages.mean())"
   ]
  },
  {
   "cell_type": "code",
   "execution_count": 12,
   "metadata": {},
   "outputs": [
    {
     "output_type": "stream",
     "name": "stdout",
     "text": [
      "count     2.000000\nmean     49.000000\nstd      16.970563\nmin      37.000000\n25%      43.000000\n50%      49.000000\n75%      55.000000\nmax      61.000000\nName: Age, dtype: float64\n"
     ]
    }
   ],
   "source": [
    "print(ages.describe())"
   ]
  },
  {
   "cell_type": "code",
   "execution_count": 13,
   "metadata": {},
   "outputs": [],
   "source": [
    "scientists3=pd.read_csv(\"scientists.csv\")"
   ]
  },
  {
   "cell_type": "code",
   "execution_count": 14,
   "metadata": {},
   "outputs": [
    {
     "output_type": "stream",
     "name": "stdout",
     "text": [
      "                   Name        Born        Died  Age    Occupation\n0     Rosaline Franklin  1920-07-25  1958-04-16   37       Chemist\n1        William Gosset  1876-06-13  1937-10-16   61  Statistician\n2  Florence Nightingale  1820-05-12  1910-08-13   90         Nurse\n3           Marie Curie  1867-11-07  1934-07-04   66       Chemist\n4         Rachel Carson  1907-05-27  1964-04-14   56     Biologist\n"
     ]
    }
   ],
   "source": [
    "age=scientists3[\"Age\"]\n",
    "print(scientists3.head())"
   ]
  },
  {
   "cell_type": "code",
   "execution_count": 15,
   "metadata": {},
   "outputs": [
    {
     "output_type": "stream",
     "name": "stdout",
     "text": [
      "90\n"
     ]
    }
   ],
   "source": [
    "print(age.max())"
   ]
  },
  {
   "cell_type": "code",
   "execution_count": 16,
   "metadata": {},
   "outputs": [
    {
     "output_type": "stream",
     "name": "stdout",
     "text": [
      "0    False\n1     True\n2     True\n3     True\n4    False\n5    False\n6    False\n7     True\nName: Age, dtype: bool\n"
     ]
    }
   ],
   "source": [
    "print(age>age.mean())"
   ]
  },
  {
   "cell_type": "code",
   "execution_count": 17,
   "metadata": {},
   "outputs": [
    {
     "output_type": "stream",
     "name": "stdout",
     "text": [
      "0     74\n1    122\n2    180\n3    132\n4    112\n5     90\n6     82\n7    154\nName: Age, dtype: int64\n"
     ]
    }
   ],
   "source": [
    "print(age+age)"
   ]
  },
  {
   "cell_type": "code",
   "execution_count": 18,
   "metadata": {},
   "outputs": [
    {
     "output_type": "stream",
     "name": "stdout",
     "text": [
      "0    1369\n1    3721\n2    8100\n3    4356\n4    3136\n5    2025\n6    1681\n7    5929\nName: Age, dtype: int64\n"
     ]
    }
   ],
   "source": [
    "print(age*age)"
   ]
  },
  {
   "cell_type": "code",
   "execution_count": 19,
   "metadata": {},
   "outputs": [
    {
     "output_type": "stream",
     "name": "stdout",
     "text": [
      "                   Name        Born        Died  Age     Occupation\n1        William Gosset  1876-06-13  1937-10-16   61   Statistician\n2  Florence Nightingale  1820-05-12  1910-08-13   90          Nurse\n3           Marie Curie  1867-11-07  1934-07-04   66        Chemist\n7          Johann Gauss  1777-04-30  1855-02-23   77  Mathematician\n"
     ]
    }
   ],
   "source": [
    "print(scientists3[scientists3[\"Age\"]>scientists3[\"Age\"].mean()])"
   ]
  },
  {
   "cell_type": "code",
   "execution_count": 20,
   "metadata": {},
   "outputs": [
    {
     "output_type": "stream",
     "name": "stdout",
     "text": [
      "                                       Name                  Born  \\\n0        Rosaline FranklinRosaline Franklin  1920-07-251920-07-25   \n1              William GossetWilliam Gosset  1876-06-131876-06-13   \n2  Florence NightingaleFlorence Nightingale  1820-05-121820-05-12   \n3                    Marie CurieMarie Curie  1867-11-071867-11-07   \n4                Rachel CarsonRachel Carson  1907-05-271907-05-27   \n5                        John SnowJohn Snow  1813-03-151813-03-15   \n6                    Alan TuringAlan Turing  1912-06-231912-06-23   \n7                  Johann GaussJohann Gauss  1777-04-301777-04-30   \n\n                   Died  Age                            Occupation  \n0  1958-04-161958-04-16   74                        ChemistChemist  \n1  1937-10-161937-10-16  122              StatisticianStatistician  \n2  1910-08-131910-08-13  180                            NurseNurse  \n3  1934-07-041934-07-04  132                        ChemistChemist  \n4  1964-04-141964-04-14  112                    BiologistBiologist  \n5  1858-06-161858-06-16   90                    PhysicianPhysician  \n6  1954-06-071954-06-07   82  Computer ScientistComputer Scientist  \n7  1855-02-231855-02-23  154            MathematicianMathematician  \n"
     ]
    }
   ],
   "source": [
    "print(scientists3*2)"
   ]
  },
  {
   "cell_type": "code",
   "execution_count": 21,
   "metadata": {},
   "outputs": [
    {
     "output_type": "stream",
     "name": "stdout",
     "text": [
      "                   Name        Born        Died  Age          Occupation\n0     Rosaline Franklin  1920-07-25  1958-04-16   37             Chemist\n1        William Gosset  1876-06-13  1937-10-16   61        Statistician\n2  Florence Nightingale  1820-05-12  1910-08-13   90               Nurse\n3           Marie Curie  1867-11-07  1934-07-04   66             Chemist\n4         Rachel Carson  1907-05-27  1964-04-14   56           Biologist\n5             John Snow  1813-03-15  1858-06-16   45           Physician\n6           Alan Turing  1912-06-23  1954-06-07   41  Computer Scientist\n7          Johann Gauss  1777-04-30  1855-02-23   77       Mathematician\n"
     ]
    }
   ],
   "source": [
    "print(scientists3)"
   ]
  },
  {
   "cell_type": "code",
   "execution_count": 22,
   "metadata": {},
   "outputs": [
    {
     "output_type": "stream",
     "name": "stdout",
     "text": [
      "0   1920-07-25\n1   1876-06-13\n2   1820-05-12\n3   1867-11-07\n4   1907-05-27\n5   1813-03-15\n6   1912-06-23\n7   1777-04-30\nName: Born, dtype: datetime64[ns]\n"
     ]
    }
   ],
   "source": [
    "born_datetime=pd.to_datetime(scientists3[\"Born\"], format=\"%Y-%m-%d\")\n",
    "print(born_datetime)"
   ]
  },
  {
   "cell_type": "code",
   "execution_count": 23,
   "metadata": {},
   "outputs": [
    {
     "output_type": "stream",
     "name": "stdout",
     "text": [
      "0   1958-04-16\n1   1937-10-16\n2   1910-08-13\n3   1934-07-04\n4   1964-04-14\n5   1858-06-16\n6   1954-06-07\n7   1855-02-23\nName: Died, dtype: datetime64[ns]\n"
     ]
    }
   ],
   "source": [
    "died_datetime = pd.to_datetime(scientists3[\"Died\"], format=\"%Y-%m-%d\")\n",
    "print(died_datetime)"
   ]
  },
  {
   "cell_type": "code",
   "execution_count": 24,
   "metadata": {},
   "outputs": [
    {
     "output_type": "stream",
     "name": "stdout",
     "text": [
      "                   Name        Born        Died  Age    Occupation    born_dt  \\\n0     Rosaline Franklin  1920-07-25  1958-04-16   37       Chemist 1920-07-25   \n1        William Gosset  1876-06-13  1937-10-16   61  Statistician 1876-06-13   \n2  Florence Nightingale  1820-05-12  1910-08-13   90         Nurse 1820-05-12   \n3           Marie Curie  1867-11-07  1934-07-04   66       Chemist 1867-11-07   \n4         Rachel Carson  1907-05-27  1964-04-14   56     Biologist 1907-05-27   \n\n     died_dt  \n0 1958-04-16  \n1 1937-10-16  \n2 1910-08-13  \n3 1934-07-04  \n4 1964-04-14  \n"
     ]
    }
   ],
   "source": [
    "scientists3[\"born_dt\"],scientists3[\"died_dt\"]=(born_datetime,died_datetime)\n",
    "print(scientists3.head())"
   ]
  },
  {
   "cell_type": "code",
   "execution_count": 25,
   "metadata": {},
   "outputs": [
    {
     "output_type": "stream",
     "name": "stdout",
     "text": [
      "                   Name        Born        Died  Age          Occupation  \\\n0     Rosaline Franklin  1920-07-25  1958-04-16   37             Chemist   \n1        William Gosset  1876-06-13  1937-10-16   61        Statistician   \n2  Florence Nightingale  1820-05-12  1910-08-13   90               Nurse   \n3           Marie Curie  1867-11-07  1934-07-04   66             Chemist   \n4         Rachel Carson  1907-05-27  1964-04-14   56           Biologist   \n5             John Snow  1813-03-15  1858-06-16   45           Physician   \n6           Alan Turing  1912-06-23  1954-06-07   41  Computer Scientist   \n7          Johann Gauss  1777-04-30  1855-02-23   77       Mathematician   \n\n     born_dt    died_dt age_days_dt  \n0 1920-07-25 1958-04-16  13779 days  \n1 1876-06-13 1937-10-16  22404 days  \n2 1820-05-12 1910-08-13  32964 days  \n3 1867-11-07 1934-07-04  24345 days  \n4 1907-05-27 1964-04-14  20777 days  \n5 1813-03-15 1858-06-16  16529 days  \n6 1912-06-23 1954-06-07  15324 days  \n7 1777-04-30 1855-02-23  28422 days  \n"
     ]
    }
   ],
   "source": [
    "scientists3[\"age_days_dt\"]=(scientists3[\"died_dt\"]-scientists3[\"born_dt\"])\n",
    "print(scientists3)"
   ]
  },
  {
   "cell_type": "code",
   "execution_count": 26,
   "metadata": {},
   "outputs": [
    {
     "output_type": "stream",
     "name": "stdout",
     "text": [
      "                   Name        Born        Died  Age          Occupation  \\\n",
      "0     Rosaline Franklin  1920-07-25  1958-04-16   66             Chemist   \n",
      "1        William Gosset  1876-06-13  1937-10-16   56        Statistician   \n",
      "2  Florence Nightingale  1820-05-12  1910-08-13   41               Nurse   \n",
      "3           Marie Curie  1867-11-07  1934-07-04   77             Chemist   \n",
      "4         Rachel Carson  1907-05-27  1964-04-14   90           Biologist   \n",
      "5             John Snow  1813-03-15  1858-06-16   45           Physician   \n",
      "6           Alan Turing  1912-06-23  1954-06-07   37  Computer Scientist   \n",
      "7          Johann Gauss  1777-04-30  1855-02-23   61       Mathematician   \n",
      "\n",
      "     born_dt    died_dt age_days_dt  \n",
      "0 1920-07-25 1958-04-16  13779 days  \n",
      "1 1876-06-13 1937-10-16  22404 days  \n",
      "2 1820-05-12 1910-08-13  32964 days  \n",
      "3 1867-11-07 1934-07-04  24345 days  \n",
      "4 1907-05-27 1964-04-14  20777 days  \n",
      "5 1813-03-15 1858-06-16  16529 days  \n",
      "6 1912-06-23 1954-06-07  15324 days  \n",
      "7 1777-04-30 1855-02-23  28422 days  \n",
      "/Library/Frameworks/Python.framework/Versions/3.9/lib/python3.9/random.py:362: SettingWithCopyWarning: \n",
      "A value is trying to be set on a copy of a slice from a DataFrame\n",
      "\n",
      "See the caveats in the documentation: https://pandas.pydata.org/pandas-docs/stable/user_guide/indexing.html#returning-a-view-versus-a-copy\n",
      "  x[i], x[j] = x[j], x[i]\n"
     ]
    }
   ],
   "source": [
    "import random\n",
    "\n",
    "random.seed(42)\n",
    "random.shuffle(scientists3[\"Age\"])\n",
    "print(scientists3)"
   ]
  },
  {
   "cell_type": "code",
   "execution_count": 27,
   "metadata": {},
   "outputs": [
    {
     "output_type": "stream",
     "name": "stdout",
     "text": [
      "Index(['Name', 'Born', 'Died', 'Age', 'Occupation', 'born_dt', 'died_dt',\n       'age_days_dt'],\n      dtype='object')\n"
     ]
    }
   ],
   "source": [
    "print(scientists3.columns)"
   ]
  },
  {
   "cell_type": "code",
   "execution_count": 28,
   "metadata": {},
   "outputs": [
    {
     "output_type": "stream",
     "name": "stdout",
     "text": [
      "Index(['Name', 'Born', 'Died', 'Occupation', 'born_dt', 'died_dt',\n       'age_days_dt'],\n      dtype='object')\n"
     ]
    }
   ],
   "source": [
    "scientists3_dropped=scientists3.drop([\"Age\"],axis=1)\n",
    "print(scientists3_dropped.columns)"
   ]
  },
  {
   "cell_type": "code",
   "execution_count": 29,
   "metadata": {},
   "outputs": [],
   "source": [
    "names=scientists3[\"Name\"]\n",
    "names.to_pickle(\"name.pickle\")"
   ]
  },
  {
   "cell_type": "code",
   "execution_count": 30,
   "metadata": {},
   "outputs": [
    {
     "output_type": "stream",
     "name": "stdout",
     "text": [
      "0       Rosaline Franklin\n1          William Gosset\n2    Florence Nightingale\n3             Marie Curie\n4           Rachel Carson\n5               John Snow\n6             Alan Turing\n7            Johann Gauss\nName: Name, dtype: object\n"
     ]
    }
   ],
   "source": [
    "what=pd.read_pickle(\"name.pickle\")\n",
    "print(what)"
   ]
  },
  {
   "cell_type": "code",
   "execution_count": null,
   "metadata": {},
   "outputs": [],
   "source": []
  }
 ]
}