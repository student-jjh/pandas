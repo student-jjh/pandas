{
 "metadata": {
  "language_info": {
   "codemirror_mode": {
    "name": "ipython",
    "version": 3
   },
   "file_extension": ".py",
   "mimetype": "text/x-python",
   "name": "python",
   "nbconvert_exporter": "python",
   "pygments_lexer": "ipython3",
   "version": "3.9.0"
  },
  "orig_nbformat": 2,
  "kernelspec": {
   "name": "python3",
   "display_name": "Python 3.9.0 64-bit",
   "metadata": {
    "interpreter": {
     "hash": "b8bdd4e700647ba2b08c59e5df8b7da1dcf50a218bcd4c1bcd9b3dc92e8788e5"
    }
   }
  }
 },
 "nbformat": 4,
 "nbformat_minor": 2,
 "cells": [
  {
   "source": [
    "import pandas as pd \n",
    "s=pd.Series(['banaan',42])\n",
    "s=pd.Series(['Wes McKinney','Creator of Pandas'],index=['Person',\"who\"])\n",
    "print(s)"
   ],
   "cell_type": "code",
   "metadata": {},
   "execution_count": 3,
   "outputs": [
    {
     "output_type": "stream",
     "name": "stdout",
     "text": [
      "Person         Wes McKinney\nwho       Creator of Pandas\ndtype: object\n"
     ]
    }
   ]
  },
  {
   "cell_type": "code",
   "execution_count": 9,
   "metadata": {},
   "outputs": [
    {
     "output_type": "stream",
     "name": "stdout",
     "text": [
      "                Name   Occupation        Born        Died  Age\n0  Rosaline Franklin      Chemist  1920-07-25  1958-04-16   37\n1     William Gosset  Statisician  1876-06-13  1937-10-16   61\n"
     ]
    }
   ],
   "source": [
    "scientists=pd.DataFrame({'Name':['Rosaline Franklin','William Gosset'],'Occupation':['Chemist','Statisician'],'Born':['1920-07-25','1876-06-13'],'Died':['1958-04-16','1937-10-16'],'Age':[37,61]})\n",
    "print(scientists)\n"
   ]
  },
  {
   "cell_type": "code",
   "execution_count": 12,
   "metadata": {},
   "outputs": [
    {
     "output_type": "stream",
     "name": "stdout",
     "text": [
      "                    Occupation        Born        Died  Age\nRosaline Franklin      Chemist  1920-07-25  1958-04-16   37\nWilliam Gosset     Statisician  1876-06-13  1937-10-16   61\n"
     ]
    }
   ],
   "source": [
    "scientists2=pd.DataFrame(data={'Occupation':['Chemist','Statisician'],'Born':['1920-07-25','1876-06-13'],'Died':['1958-04-16','1937-10-16'],'Age':[37,61]},index=['Rosaline Franklin','William Gosset'])\n",
    "print(scientists2)"
   ]
  },
  {
   "cell_type": "code",
   "execution_count": null,
   "metadata": {},
   "outputs": [],
   "source": []
  }
 ]
}