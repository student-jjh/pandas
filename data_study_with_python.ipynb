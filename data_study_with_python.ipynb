{
 "metadata": {
  "language_info": {
   "codemirror_mode": {
    "name": "ipython",
    "version": 3
   },
   "file_extension": ".py",
   "mimetype": "text/x-python",
   "name": "python",
   "nbconvert_exporter": "python",
   "pygments_lexer": "ipython3",
   "version": "3.9.0"
  },
  "orig_nbformat": 2,
  "kernelspec": {
   "name": "python390jvsc74a57bd0aee8b7b246df8f9039afb4144a1f6fd8d2ca17a180786b69acc140d282b71a49",
   "display_name": "Python 3.9.0 64-bit"
  },
  "metadata": {
   "interpreter": {
    "hash": "aee8b7b246df8f9039afb4144a1f6fd8d2ca17a180786b69acc140d282b71a49"
   }
  }
 },
 "nbformat": 4,
 "nbformat_minor": 2,
 "cells": [
  {
   "cell_type": "code",
   "execution_count": 3,
   "metadata": {},
   "outputs": [
    {
     "output_type": "execute_result",
     "data": {
      "text/plain": [
       "'/Users/junjoonheak/Desktop/pandas_study'"
      ]
     },
     "metadata": {},
     "execution_count": 3
    }
   ],
   "source": [
    "import os\n",
    "os.getcwd() #current working directory를 찾아주는 함수"
   ]
  },
  {
   "cell_type": "code",
   "execution_count": 5,
   "metadata": {},
   "outputs": [],
   "source": [
    "import pandas as pd"
   ]
  },
  {
   "cell_type": "code",
   "execution_count": 7,
   "metadata": {},
   "outputs": [],
   "source": [
    "#pandas 데이터 분석에 널리 사용되는 대표적인 패키지 중에 하나\n",
    "#엑셀의 표같이 구성된 데이터를 다루기 쉽게 만들어줌\n",
    "bike_data=pd.read_csv(\"bike_usage.csv\",encoding='')\n",
    "#인코딩 해결 문제 해결\n",
    "#파일을 다른 이름으로 저장하며 인코딩 방법을 변경하여 줌"
   ]
  },
  {
   "cell_type": "code",
   "execution_count": 9,
   "metadata": {},
   "outputs": [
    {
     "output_type": "stream",
     "name": "stdout",
     "text": [
      "     Date_out  Time_out  Station_no_out           Station_out Membership_type  \\\n0  2019-10-03         0             129  129. 신촌역(2호선) 6번출구 옆             정기권   \n1  2019-10-03         0             150      150. 서강대역 2번출구 앞             정기권   \n2  2019-10-03         0             240       240. 문래역 4번출구 앞             정기권   \n3  2019-10-03         0             623       623. 서울시립대 정문 앞             정기권   \n4  2019-10-03         0             633       633. 청량리 기업은행 앞             정기권   \n\n  Gender Age_Group Momentum  Station_no_in   Station_in  \\\n0    NaN      ~10대    28.27            122     신성기사식당 앞   \n1    NaN       20대   146.46           2065    서울시여성가족재단   \n2    NaN       20대    37.13            245  삼성생명 당산사옥 앞   \n3    NaN       20대   134.62           1346  길음8골어린이공원 옆   \n4    NaN       20대    85.83            568   청계8가사거리 부근   \n\n                  Date_in    Bike_no Carbon_amount  Distance  Duration  \n0  2019-10-03 오전 12:20:42  SPB-15000          0.24      1050         5  \n1   2019-10-03 오전 1:16:32  SPB-13087          1.32      5690        32  \n2  2019-10-03 오전 12:18:21  SPB-23229          0.29      1250        10  \n3   2019-10-03 오전 1:15:39  SPB-14181          1.21      5230        24  \n4  2019-10-03 오전 12:17:58  SPB-15221          0.67      2890        11  \n"
     ]
    }
   ],
   "source": [
    "print(bike_data.head())"
   ]
  },
  {
   "cell_type": "code",
   "execution_count": 11,
   "metadata": {},
   "outputs": [
    {
     "output_type": "execute_result",
     "data": {
      "text/plain": [
       "       Date_out  Time_out  Station_no_out  Station_out  Membership_type  \\\n",
       "0         False     False           False        False            False   \n",
       "1         False     False           False        False            False   \n",
       "2         False     False           False        False            False   \n",
       "3         False     False           False        False            False   \n",
       "4         False     False           False        False            False   \n",
       "...         ...       ...             ...          ...              ...   \n",
       "36590     False     False           False        False            False   \n",
       "36591     False     False           False        False            False   \n",
       "36592     False     False           False        False            False   \n",
       "36593     False     False           False        False            False   \n",
       "36594     False     False           False        False            False   \n",
       "\n",
       "       Gender  Age_Group  Momentum  Station_no_in  Station_in  Date_in  \\\n",
       "0        True      False     False          False       False    False   \n",
       "1        True      False     False          False       False    False   \n",
       "2        True      False     False          False       False    False   \n",
       "3        True      False     False          False       False    False   \n",
       "4        True      False     False          False       False    False   \n",
       "...       ...        ...       ...            ...         ...      ...   \n",
       "36590   False      False     False          False       False    False   \n",
       "36591   False      False     False          False       False    False   \n",
       "36592   False      False     False          False       False    False   \n",
       "36593   False      False     False          False       False    False   \n",
       "36594    True      False     False          False       False    False   \n",
       "\n",
       "       Bike_no  Carbon_amount  Distance  Duration  \n",
       "0        False          False     False     False  \n",
       "1        False          False     False     False  \n",
       "2        False          False     False     False  \n",
       "3        False          False     False     False  \n",
       "4        False          False     False     False  \n",
       "...        ...            ...       ...       ...  \n",
       "36590    False          False     False     False  \n",
       "36591    False          False     False     False  \n",
       "36592    False          False     False     False  \n",
       "36593    False          False     False     False  \n",
       "36594    False          False     False     False  \n",
       "\n",
       "[36595 rows x 15 columns]"
      ],
      "text/html": "<div>\n<style scoped>\n    .dataframe tbody tr th:only-of-type {\n        vertical-align: middle;\n    }\n\n    .dataframe tbody tr th {\n        vertical-align: top;\n    }\n\n    .dataframe thead th {\n        text-align: right;\n    }\n</style>\n<table border=\"1\" class=\"dataframe\">\n  <thead>\n    <tr style=\"text-align: right;\">\n      <th></th>\n      <th>Date_out</th>\n      <th>Time_out</th>\n      <th>Station_no_out</th>\n      <th>Station_out</th>\n      <th>Membership_type</th>\n      <th>Gender</th>\n      <th>Age_Group</th>\n      <th>Momentum</th>\n      <th>Station_no_in</th>\n      <th>Station_in</th>\n      <th>Date_in</th>\n      <th>Bike_no</th>\n      <th>Carbon_amount</th>\n      <th>Distance</th>\n      <th>Duration</th>\n    </tr>\n  </thead>\n  <tbody>\n    <tr>\n      <th>0</th>\n      <td>False</td>\n      <td>False</td>\n      <td>False</td>\n      <td>False</td>\n      <td>False</td>\n      <td>True</td>\n      <td>False</td>\n      <td>False</td>\n      <td>False</td>\n      <td>False</td>\n      <td>False</td>\n      <td>False</td>\n      <td>False</td>\n      <td>False</td>\n      <td>False</td>\n    </tr>\n    <tr>\n      <th>1</th>\n      <td>False</td>\n      <td>False</td>\n      <td>False</td>\n      <td>False</td>\n      <td>False</td>\n      <td>True</td>\n      <td>False</td>\n      <td>False</td>\n      <td>False</td>\n      <td>False</td>\n      <td>False</td>\n      <td>False</td>\n      <td>False</td>\n      <td>False</td>\n      <td>False</td>\n    </tr>\n    <tr>\n      <th>2</th>\n      <td>False</td>\n      <td>False</td>\n      <td>False</td>\n      <td>False</td>\n      <td>False</td>\n      <td>True</td>\n      <td>False</td>\n      <td>False</td>\n      <td>False</td>\n      <td>False</td>\n      <td>False</td>\n      <td>False</td>\n      <td>False</td>\n      <td>False</td>\n      <td>False</td>\n    </tr>\n    <tr>\n      <th>3</th>\n      <td>False</td>\n      <td>False</td>\n      <td>False</td>\n      <td>False</td>\n      <td>False</td>\n      <td>True</td>\n      <td>False</td>\n      <td>False</td>\n      <td>False</td>\n      <td>False</td>\n      <td>False</td>\n      <td>False</td>\n      <td>False</td>\n      <td>False</td>\n      <td>False</td>\n    </tr>\n    <tr>\n      <th>4</th>\n      <td>False</td>\n      <td>False</td>\n      <td>False</td>\n      <td>False</td>\n      <td>False</td>\n      <td>True</td>\n      <td>False</td>\n      <td>False</td>\n      <td>False</td>\n      <td>False</td>\n      <td>False</td>\n      <td>False</td>\n      <td>False</td>\n      <td>False</td>\n      <td>False</td>\n    </tr>\n    <tr>\n      <th>...</th>\n      <td>...</td>\n      <td>...</td>\n      <td>...</td>\n      <td>...</td>\n      <td>...</td>\n      <td>...</td>\n      <td>...</td>\n      <td>...</td>\n      <td>...</td>\n      <td>...</td>\n      <td>...</td>\n      <td>...</td>\n      <td>...</td>\n      <td>...</td>\n      <td>...</td>\n    </tr>\n    <tr>\n      <th>36590</th>\n      <td>False</td>\n      <td>False</td>\n      <td>False</td>\n      <td>False</td>\n      <td>False</td>\n      <td>False</td>\n      <td>False</td>\n      <td>False</td>\n      <td>False</td>\n      <td>False</td>\n      <td>False</td>\n      <td>False</td>\n      <td>False</td>\n      <td>False</td>\n      <td>False</td>\n    </tr>\n    <tr>\n      <th>36591</th>\n      <td>False</td>\n      <td>False</td>\n      <td>False</td>\n      <td>False</td>\n      <td>False</td>\n      <td>False</td>\n      <td>False</td>\n      <td>False</td>\n      <td>False</td>\n      <td>False</td>\n      <td>False</td>\n      <td>False</td>\n      <td>False</td>\n      <td>False</td>\n      <td>False</td>\n    </tr>\n    <tr>\n      <th>36592</th>\n      <td>False</td>\n      <td>False</td>\n      <td>False</td>\n      <td>False</td>\n      <td>False</td>\n      <td>False</td>\n      <td>False</td>\n      <td>False</td>\n      <td>False</td>\n      <td>False</td>\n      <td>False</td>\n      <td>False</td>\n      <td>False</td>\n      <td>False</td>\n      <td>False</td>\n    </tr>\n    <tr>\n      <th>36593</th>\n      <td>False</td>\n      <td>False</td>\n      <td>False</td>\n      <td>False</td>\n      <td>False</td>\n      <td>False</td>\n      <td>False</td>\n      <td>False</td>\n      <td>False</td>\n      <td>False</td>\n      <td>False</td>\n      <td>False</td>\n      <td>False</td>\n      <td>False</td>\n      <td>False</td>\n    </tr>\n    <tr>\n      <th>36594</th>\n      <td>False</td>\n      <td>False</td>\n      <td>False</td>\n      <td>False</td>\n      <td>False</td>\n      <td>True</td>\n      <td>False</td>\n      <td>False</td>\n      <td>False</td>\n      <td>False</td>\n      <td>False</td>\n      <td>False</td>\n      <td>False</td>\n      <td>False</td>\n      <td>False</td>\n    </tr>\n  </tbody>\n</table>\n<p>36595 rows × 15 columns</p>\n</div>"
     },
     "metadata": {},
     "execution_count": 11
    }
   ],
   "source": [
    "bike_data.isnull()"
   ]
  },
  {
   "cell_type": "code",
   "execution_count": 13,
   "metadata": {},
   "outputs": [
    {
     "output_type": "execute_result",
     "data": {
      "text/plain": [
       "Date_out               0\n",
       "Time_out               0\n",
       "Station_no_out         0\n",
       "Station_out            0\n",
       "Membership_type        0\n",
       "Gender             18333\n",
       "Age_Group              0\n",
       "Momentum               0\n",
       "Station_no_in          0\n",
       "Station_in             0\n",
       "Date_in                0\n",
       "Bike_no                0\n",
       "Carbon_amount          0\n",
       "Distance               0\n",
       "Duration               0\n",
       "dtype: int64"
      ]
     },
     "metadata": {},
     "execution_count": 13
    }
   ],
   "source": [
    "bike_data.isnull().sum()"
   ]
  },
  {
   "cell_type": "code",
   "execution_count": 15,
   "metadata": {},
   "outputs": [],
   "source": [
    "#참과 거짓 은 0과 1로 구분이 되어짐\n",
    "population=pd.read_csv('population_by_Gu.txt',sep='\\t')"
   ]
  },
  {
   "cell_type": "code",
   "execution_count": 17,
   "metadata": {},
   "outputs": [
    {
     "output_type": "stream",
     "name": "stdout",
     "text": [
      "     Gu  Family  Population    Male  Female  D_Total  D_Male  D_Female  \\\n0  동대문구  164191      363023  178490  184533   346194  172113    174081   \n1   은평구  207681      484546  233360  251186   480032  231528    248504   \n2   마포구  175023      385925  181303  204622   374035  176891    197144   \n3  영등포구  174806      400986  200986  200000   367678  182438    185240   \n4   서초구  173199      435107  208181  226926   430826  206039    224787   \n\n   F_Total  F_Male  F_Female  per_Family  over_65  \n0    16829    6377     10452        2.11    59350  \n1     4514    1832      2682        2.31    80738  \n2    11890    4412      7478        2.14    52429  \n3    33308   18548     14760        2.10    57872  \n4     4281    2142      2139        2.49    57136  \n"
     ]
    }
   ],
   "source": [
    "print(population.head())"
   ]
  },
  {
   "cell_type": "code",
   "execution_count": 19,
   "metadata": {},
   "outputs": [],
   "source": [
    "weather=pd.read_csv('weather.csv')"
   ]
  },
  {
   "cell_type": "code",
   "execution_count": 21,
   "metadata": {},
   "outputs": [
    {
     "output_type": "execute_result",
     "data": {
      "text/plain": [
       "                    date_old        date  time  temp  cum_precipitation  \\\n",
       "0     2019-10-03 오전 12:00:00  2019-10-03    12  20.0               23.2   \n",
       "1     2019-10-03 오전 12:01:00  2019-10-03    12  20.1                0.0   \n",
       "2     2019-10-03 오전 12:02:00  2019-10-03    12  20.0                0.0   \n",
       "3     2019-10-03 오전 12:03:00  2019-10-03    12  20.0                0.0   \n",
       "4     2019-10-03 오전 12:04:00  2019-10-03    12  20.0                0.0   \n",
       "...                      ...         ...   ...   ...                ...   \n",
       "4315  2019-10-05 오후 11:55:00  2019-10-05    23  14.8                0.6   \n",
       "4316  2019-10-05 오후 11:56:00  2019-10-05    23  14.8                0.6   \n",
       "4317  2019-10-05 오후 11:57:00  2019-10-05    23  14.8                0.6   \n",
       "4318  2019-10-05 오후 11:58:00  2019-10-05    23  14.7                0.6   \n",
       "4319  2019-10-05 오후 11:59:00  2019-10-05    23  14.8                0.6   \n",
       "\n",
       "      humidity  insolation  sunshine  wind  wind_direction  sea_lvl_pressure  \\\n",
       "0         94.1        3.40         0   5.5           351.7            1004.1   \n",
       "1         94.1        0.00         0   3.7           348.6            1004.1   \n",
       "2         94.1        0.00         0   3.6           346.4            1004.1   \n",
       "3         94.1        0.00         0   3.1           349.1            1004.1   \n",
       "4         94.0        0.00         0   3.4           335.9            1004.1   \n",
       "...        ...         ...       ...   ...             ...               ...   \n",
       "4315      63.6        8.24      8400   3.2           350.9            1021.3   \n",
       "4316      63.5        8.24      8400   2.9           354.3            1021.3   \n",
       "4317      63.7        8.24      8400   3.1             3.9            1021.3   \n",
       "4318      63.9        8.24      8400   2.3            10.0            1021.2   \n",
       "4319      64.0        8.24      8400   2.6           351.7            1021.3   \n",
       "\n",
       "      pressure  \n",
       "0        994.2  \n",
       "1        994.2  \n",
       "2        994.2  \n",
       "3        994.2  \n",
       "4        994.2  \n",
       "...        ...  \n",
       "4315    1011.0  \n",
       "4316    1011.0  \n",
       "4317    1011.0  \n",
       "4318    1011.0  \n",
       "4319    1011.0  \n",
       "\n",
       "[4320 rows x 12 columns]"
      ],
      "text/html": "<div>\n<style scoped>\n    .dataframe tbody tr th:only-of-type {\n        vertical-align: middle;\n    }\n\n    .dataframe tbody tr th {\n        vertical-align: top;\n    }\n\n    .dataframe thead th {\n        text-align: right;\n    }\n</style>\n<table border=\"1\" class=\"dataframe\">\n  <thead>\n    <tr style=\"text-align: right;\">\n      <th></th>\n      <th>date_old</th>\n      <th>date</th>\n      <th>time</th>\n      <th>temp</th>\n      <th>cum_precipitation</th>\n      <th>humidity</th>\n      <th>insolation</th>\n      <th>sunshine</th>\n      <th>wind</th>\n      <th>wind_direction</th>\n      <th>sea_lvl_pressure</th>\n      <th>pressure</th>\n    </tr>\n  </thead>\n  <tbody>\n    <tr>\n      <th>0</th>\n      <td>2019-10-03 오전 12:00:00</td>\n      <td>2019-10-03</td>\n      <td>12</td>\n      <td>20.0</td>\n      <td>23.2</td>\n      <td>94.1</td>\n      <td>3.40</td>\n      <td>0</td>\n      <td>5.5</td>\n      <td>351.7</td>\n      <td>1004.1</td>\n      <td>994.2</td>\n    </tr>\n    <tr>\n      <th>1</th>\n      <td>2019-10-03 오전 12:01:00</td>\n      <td>2019-10-03</td>\n      <td>12</td>\n      <td>20.1</td>\n      <td>0.0</td>\n      <td>94.1</td>\n      <td>0.00</td>\n      <td>0</td>\n      <td>3.7</td>\n      <td>348.6</td>\n      <td>1004.1</td>\n      <td>994.2</td>\n    </tr>\n    <tr>\n      <th>2</th>\n      <td>2019-10-03 오전 12:02:00</td>\n      <td>2019-10-03</td>\n      <td>12</td>\n      <td>20.0</td>\n      <td>0.0</td>\n      <td>94.1</td>\n      <td>0.00</td>\n      <td>0</td>\n      <td>3.6</td>\n      <td>346.4</td>\n      <td>1004.1</td>\n      <td>994.2</td>\n    </tr>\n    <tr>\n      <th>3</th>\n      <td>2019-10-03 오전 12:03:00</td>\n      <td>2019-10-03</td>\n      <td>12</td>\n      <td>20.0</td>\n      <td>0.0</td>\n      <td>94.1</td>\n      <td>0.00</td>\n      <td>0</td>\n      <td>3.1</td>\n      <td>349.1</td>\n      <td>1004.1</td>\n      <td>994.2</td>\n    </tr>\n    <tr>\n      <th>4</th>\n      <td>2019-10-03 오전 12:04:00</td>\n      <td>2019-10-03</td>\n      <td>12</td>\n      <td>20.0</td>\n      <td>0.0</td>\n      <td>94.0</td>\n      <td>0.00</td>\n      <td>0</td>\n      <td>3.4</td>\n      <td>335.9</td>\n      <td>1004.1</td>\n      <td>994.2</td>\n    </tr>\n    <tr>\n      <th>...</th>\n      <td>...</td>\n      <td>...</td>\n      <td>...</td>\n      <td>...</td>\n      <td>...</td>\n      <td>...</td>\n      <td>...</td>\n      <td>...</td>\n      <td>...</td>\n      <td>...</td>\n      <td>...</td>\n      <td>...</td>\n    </tr>\n    <tr>\n      <th>4315</th>\n      <td>2019-10-05 오후 11:55:00</td>\n      <td>2019-10-05</td>\n      <td>23</td>\n      <td>14.8</td>\n      <td>0.6</td>\n      <td>63.6</td>\n      <td>8.24</td>\n      <td>8400</td>\n      <td>3.2</td>\n      <td>350.9</td>\n      <td>1021.3</td>\n      <td>1011.0</td>\n    </tr>\n    <tr>\n      <th>4316</th>\n      <td>2019-10-05 오후 11:56:00</td>\n      <td>2019-10-05</td>\n      <td>23</td>\n      <td>14.8</td>\n      <td>0.6</td>\n      <td>63.5</td>\n      <td>8.24</td>\n      <td>8400</td>\n      <td>2.9</td>\n      <td>354.3</td>\n      <td>1021.3</td>\n      <td>1011.0</td>\n    </tr>\n    <tr>\n      <th>4317</th>\n      <td>2019-10-05 오후 11:57:00</td>\n      <td>2019-10-05</td>\n      <td>23</td>\n      <td>14.8</td>\n      <td>0.6</td>\n      <td>63.7</td>\n      <td>8.24</td>\n      <td>8400</td>\n      <td>3.1</td>\n      <td>3.9</td>\n      <td>1021.3</td>\n      <td>1011.0</td>\n    </tr>\n    <tr>\n      <th>4318</th>\n      <td>2019-10-05 오후 11:58:00</td>\n      <td>2019-10-05</td>\n      <td>23</td>\n      <td>14.7</td>\n      <td>0.6</td>\n      <td>63.9</td>\n      <td>8.24</td>\n      <td>8400</td>\n      <td>2.3</td>\n      <td>10.0</td>\n      <td>1021.2</td>\n      <td>1011.0</td>\n    </tr>\n    <tr>\n      <th>4319</th>\n      <td>2019-10-05 오후 11:59:00</td>\n      <td>2019-10-05</td>\n      <td>23</td>\n      <td>14.8</td>\n      <td>0.6</td>\n      <td>64.0</td>\n      <td>8.24</td>\n      <td>8400</td>\n      <td>2.6</td>\n      <td>351.7</td>\n      <td>1021.3</td>\n      <td>1011.0</td>\n    </tr>\n  </tbody>\n</table>\n<p>4320 rows × 12 columns</p>\n</div>"
     },
     "metadata": {},
     "execution_count": 21
    }
   ],
   "source": [
    "weather"
   ]
  },
  {
   "cell_type": "code",
   "execution_count": 23,
   "metadata": {},
   "outputs": [
    {
     "output_type": "execute_result",
     "data": {
      "text/plain": [
       "           Time_out  Station_no_out  Station_no_in       Distance  \\\n",
       "count  36595.000000    36595.000000   36595.000000   36595.000000   \n",
       "mean      14.318705      757.857467     885.718213    4213.292253   \n",
       "std        6.000273      764.442285     835.058693    5713.148232   \n",
       "min        0.000000      101.000000     101.000000       0.000000   \n",
       "25%       11.000000      225.000000     227.000000    1180.000000   \n",
       "50%       15.000000      417.000000     565.000000    2290.000000   \n",
       "75%       19.000000      926.000000    1351.000000    5080.000000   \n",
       "max       23.000000     2511.000000    9997.000000  111270.000000   \n",
       "\n",
       "           Duration  \n",
       "count  36595.000000  \n",
       "mean      31.020385  \n",
       "std       32.073889  \n",
       "min        1.000000  \n",
       "25%        9.000000  \n",
       "50%       19.000000  \n",
       "75%       44.000000  \n",
       "max      682.000000  "
      ],
      "text/html": "<div>\n<style scoped>\n    .dataframe tbody tr th:only-of-type {\n        vertical-align: middle;\n    }\n\n    .dataframe tbody tr th {\n        vertical-align: top;\n    }\n\n    .dataframe thead th {\n        text-align: right;\n    }\n</style>\n<table border=\"1\" class=\"dataframe\">\n  <thead>\n    <tr style=\"text-align: right;\">\n      <th></th>\n      <th>Time_out</th>\n      <th>Station_no_out</th>\n      <th>Station_no_in</th>\n      <th>Distance</th>\n      <th>Duration</th>\n    </tr>\n  </thead>\n  <tbody>\n    <tr>\n      <th>count</th>\n      <td>36595.000000</td>\n      <td>36595.000000</td>\n      <td>36595.000000</td>\n      <td>36595.000000</td>\n      <td>36595.000000</td>\n    </tr>\n    <tr>\n      <th>mean</th>\n      <td>14.318705</td>\n      <td>757.857467</td>\n      <td>885.718213</td>\n      <td>4213.292253</td>\n      <td>31.020385</td>\n    </tr>\n    <tr>\n      <th>std</th>\n      <td>6.000273</td>\n      <td>764.442285</td>\n      <td>835.058693</td>\n      <td>5713.148232</td>\n      <td>32.073889</td>\n    </tr>\n    <tr>\n      <th>min</th>\n      <td>0.000000</td>\n      <td>101.000000</td>\n      <td>101.000000</td>\n      <td>0.000000</td>\n      <td>1.000000</td>\n    </tr>\n    <tr>\n      <th>25%</th>\n      <td>11.000000</td>\n      <td>225.000000</td>\n      <td>227.000000</td>\n      <td>1180.000000</td>\n      <td>9.000000</td>\n    </tr>\n    <tr>\n      <th>50%</th>\n      <td>15.000000</td>\n      <td>417.000000</td>\n      <td>565.000000</td>\n      <td>2290.000000</td>\n      <td>19.000000</td>\n    </tr>\n    <tr>\n      <th>75%</th>\n      <td>19.000000</td>\n      <td>926.000000</td>\n      <td>1351.000000</td>\n      <td>5080.000000</td>\n      <td>44.000000</td>\n    </tr>\n    <tr>\n      <th>max</th>\n      <td>23.000000</td>\n      <td>2511.000000</td>\n      <td>9997.000000</td>\n      <td>111270.000000</td>\n      <td>682.000000</td>\n    </tr>\n  </tbody>\n</table>\n</div>"
     },
     "metadata": {},
     "execution_count": 23
    }
   ],
   "source": [
    "bike_data.describe()"
   ]
  },
  {
   "cell_type": "code",
   "execution_count": 25,
   "metadata": {},
   "outputs": [
    {
     "output_type": "execute_result",
     "data": {
      "text/plain": [
       "pandas.core.frame.DataFrame"
      ]
     },
     "metadata": {},
     "execution_count": 25
    }
   ],
   "source": [
    "type(bike_data)\n",
    "#read csv를 사용하여 데이터 파일을 읽으면 DataFrame구조가 됨\n",
    "#판다스는 데이타 프레임을 사용\n",
    "#변수가 데이터 프레임이 되면 데이터 프레임이 사용할 수 있는 기능을 자동으로 사용 할 수 있게 됨\n"
   ]
  },
  {
   "cell_type": "code",
   "execution_count": 27,
   "metadata": {},
   "outputs": [
    {
     "output_type": "execute_result",
     "data": {
      "text/plain": [
       "Index(['Date_out', 'Time_out', 'Station_no_out', 'Station_out',\n",
       "       'Membership_type', 'Gender', 'Age_Group', 'Momentum', 'Station_no_in',\n",
       "       'Station_in', 'Date_in', 'Bike_no', 'Carbon_amount', 'Distance',\n",
       "       'Duration'],\n",
       "      dtype='object')"
      ]
     },
     "metadata": {},
     "execution_count": 27
    }
   ],
   "source": [
    "bike_data.columns"
   ]
  },
  {
   "cell_type": "code",
   "execution_count": 29,
   "metadata": {},
   "outputs": [
    {
     "output_type": "execute_result",
     "data": {
      "text/plain": [
       "     Date_out  Time_out  Station_no_out           Station_out Membership_type  \\\n",
       "0  2019-10-03         0             129  129. 신촌역(2호선) 6번출구 옆             정기권   \n",
       "1  2019-10-03         0             150      150. 서강대역 2번출구 앞             정기권   \n",
       "2  2019-10-03         0             240       240. 문래역 4번출구 앞             정기권   \n",
       "3  2019-10-03         0             623       623. 서울시립대 정문 앞             정기권   \n",
       "4  2019-10-03         0             633       633. 청량리 기업은행 앞             정기권   \n",
       "5  2019-10-03         0             914         914. 새절역 2번출구             정기권   \n",
       "6  2019-10-03         0             926         926. 불광역 8번출구             정기권   \n",
       "7  2019-10-03         0             212      212. 여의도역 1번출구 옆             정기권   \n",
       "8  2019-10-03         0             421           421. 마포구청 앞             정기권   \n",
       "9  2019-10-03         0             108          108. 서교동 사거리             정기권   \n",
       "\n",
       "  Gender Age_Group Momentum  Station_no_in   Station_in  \\\n",
       "0    NaN      ~10대    28.27            122     신성기사식당 앞   \n",
       "1    NaN       20대   146.46           2065    서울시여성가족재단   \n",
       "2    NaN       20대    37.13            245  삼성생명 당산사옥 앞   \n",
       "3    NaN       20대   134.62           1346  길음8골어린이공원 옆   \n",
       "4    NaN       20대    85.83            568   청계8가사거리 부근   \n",
       "5    NaN       20대    15.68            912        응암오거리   \n",
       "6    NaN       20대    30.37            946         독바위역   \n",
       "7    NaN       20대    29.89            216    삼부아파트1동 앞   \n",
       "8    NaN       20대    46.76            152   마포구민체육센터 앞   \n",
       "9    NaN       30대    44.52            151     망원1동주민센터   \n",
       "\n",
       "                  Date_in    Bike_no Carbon_amount  Distance  Duration  \n",
       "0  2019-10-03 오전 12:20:42  SPB-15000          0.24      1050         5  \n",
       "1   2019-10-03 오전 1:16:32  SPB-13087          1.32      5690        32  \n",
       "2  2019-10-03 오전 12:18:21  SPB-23229          0.29      1250        10  \n",
       "3   2019-10-03 오전 1:15:39  SPB-14181          1.21      5230        24  \n",
       "4  2019-10-03 오전 12:17:58  SPB-15221          0.67      2890        11  \n",
       "5  2019-10-03 오전 12:16:20  SPB-04117          0.15       660         5  \n",
       "6   2019-10-03 오전 1:06:17  SPB-12724          0.27      1180         7  \n",
       "7  2019-10-03 오전 12:36:38  SPB-20323          0.26      1110         6  \n",
       "8  2019-10-03 오전 12:42:31  SPB-05679          0.38      1640        11  \n",
       "9  2019-10-03 오전 12:39:41  SPB-18038          0.34      1460         7  "
      ],
      "text/html": "<div>\n<style scoped>\n    .dataframe tbody tr th:only-of-type {\n        vertical-align: middle;\n    }\n\n    .dataframe tbody tr th {\n        vertical-align: top;\n    }\n\n    .dataframe thead th {\n        text-align: right;\n    }\n</style>\n<table border=\"1\" class=\"dataframe\">\n  <thead>\n    <tr style=\"text-align: right;\">\n      <th></th>\n      <th>Date_out</th>\n      <th>Time_out</th>\n      <th>Station_no_out</th>\n      <th>Station_out</th>\n      <th>Membership_type</th>\n      <th>Gender</th>\n      <th>Age_Group</th>\n      <th>Momentum</th>\n      <th>Station_no_in</th>\n      <th>Station_in</th>\n      <th>Date_in</th>\n      <th>Bike_no</th>\n      <th>Carbon_amount</th>\n      <th>Distance</th>\n      <th>Duration</th>\n    </tr>\n  </thead>\n  <tbody>\n    <tr>\n      <th>0</th>\n      <td>2019-10-03</td>\n      <td>0</td>\n      <td>129</td>\n      <td>129. 신촌역(2호선) 6번출구 옆</td>\n      <td>정기권</td>\n      <td>NaN</td>\n      <td>~10대</td>\n      <td>28.27</td>\n      <td>122</td>\n      <td>신성기사식당 앞</td>\n      <td>2019-10-03 오전 12:20:42</td>\n      <td>SPB-15000</td>\n      <td>0.24</td>\n      <td>1050</td>\n      <td>5</td>\n    </tr>\n    <tr>\n      <th>1</th>\n      <td>2019-10-03</td>\n      <td>0</td>\n      <td>150</td>\n      <td>150. 서강대역 2번출구 앞</td>\n      <td>정기권</td>\n      <td>NaN</td>\n      <td>20대</td>\n      <td>146.46</td>\n      <td>2065</td>\n      <td>서울시여성가족재단</td>\n      <td>2019-10-03 오전 1:16:32</td>\n      <td>SPB-13087</td>\n      <td>1.32</td>\n      <td>5690</td>\n      <td>32</td>\n    </tr>\n    <tr>\n      <th>2</th>\n      <td>2019-10-03</td>\n      <td>0</td>\n      <td>240</td>\n      <td>240. 문래역 4번출구 앞</td>\n      <td>정기권</td>\n      <td>NaN</td>\n      <td>20대</td>\n      <td>37.13</td>\n      <td>245</td>\n      <td>삼성생명 당산사옥 앞</td>\n      <td>2019-10-03 오전 12:18:21</td>\n      <td>SPB-23229</td>\n      <td>0.29</td>\n      <td>1250</td>\n      <td>10</td>\n    </tr>\n    <tr>\n      <th>3</th>\n      <td>2019-10-03</td>\n      <td>0</td>\n      <td>623</td>\n      <td>623. 서울시립대 정문 앞</td>\n      <td>정기권</td>\n      <td>NaN</td>\n      <td>20대</td>\n      <td>134.62</td>\n      <td>1346</td>\n      <td>길음8골어린이공원 옆</td>\n      <td>2019-10-03 오전 1:15:39</td>\n      <td>SPB-14181</td>\n      <td>1.21</td>\n      <td>5230</td>\n      <td>24</td>\n    </tr>\n    <tr>\n      <th>4</th>\n      <td>2019-10-03</td>\n      <td>0</td>\n      <td>633</td>\n      <td>633. 청량리 기업은행 앞</td>\n      <td>정기권</td>\n      <td>NaN</td>\n      <td>20대</td>\n      <td>85.83</td>\n      <td>568</td>\n      <td>청계8가사거리 부근</td>\n      <td>2019-10-03 오전 12:17:58</td>\n      <td>SPB-15221</td>\n      <td>0.67</td>\n      <td>2890</td>\n      <td>11</td>\n    </tr>\n    <tr>\n      <th>5</th>\n      <td>2019-10-03</td>\n      <td>0</td>\n      <td>914</td>\n      <td>914. 새절역 2번출구</td>\n      <td>정기권</td>\n      <td>NaN</td>\n      <td>20대</td>\n      <td>15.68</td>\n      <td>912</td>\n      <td>응암오거리</td>\n      <td>2019-10-03 오전 12:16:20</td>\n      <td>SPB-04117</td>\n      <td>0.15</td>\n      <td>660</td>\n      <td>5</td>\n    </tr>\n    <tr>\n      <th>6</th>\n      <td>2019-10-03</td>\n      <td>0</td>\n      <td>926</td>\n      <td>926. 불광역 8번출구</td>\n      <td>정기권</td>\n      <td>NaN</td>\n      <td>20대</td>\n      <td>30.37</td>\n      <td>946</td>\n      <td>독바위역</td>\n      <td>2019-10-03 오전 1:06:17</td>\n      <td>SPB-12724</td>\n      <td>0.27</td>\n      <td>1180</td>\n      <td>7</td>\n    </tr>\n    <tr>\n      <th>7</th>\n      <td>2019-10-03</td>\n      <td>0</td>\n      <td>212</td>\n      <td>212. 여의도역 1번출구 옆</td>\n      <td>정기권</td>\n      <td>NaN</td>\n      <td>20대</td>\n      <td>29.89</td>\n      <td>216</td>\n      <td>삼부아파트1동 앞</td>\n      <td>2019-10-03 오전 12:36:38</td>\n      <td>SPB-20323</td>\n      <td>0.26</td>\n      <td>1110</td>\n      <td>6</td>\n    </tr>\n    <tr>\n      <th>8</th>\n      <td>2019-10-03</td>\n      <td>0</td>\n      <td>421</td>\n      <td>421. 마포구청 앞</td>\n      <td>정기권</td>\n      <td>NaN</td>\n      <td>20대</td>\n      <td>46.76</td>\n      <td>152</td>\n      <td>마포구민체육센터 앞</td>\n      <td>2019-10-03 오전 12:42:31</td>\n      <td>SPB-05679</td>\n      <td>0.38</td>\n      <td>1640</td>\n      <td>11</td>\n    </tr>\n    <tr>\n      <th>9</th>\n      <td>2019-10-03</td>\n      <td>0</td>\n      <td>108</td>\n      <td>108. 서교동 사거리</td>\n      <td>정기권</td>\n      <td>NaN</td>\n      <td>30대</td>\n      <td>44.52</td>\n      <td>151</td>\n      <td>망원1동주민센터</td>\n      <td>2019-10-03 오전 12:39:41</td>\n      <td>SPB-18038</td>\n      <td>0.34</td>\n      <td>1460</td>\n      <td>7</td>\n    </tr>\n  </tbody>\n</table>\n</div>"
     },
     "metadata": {},
     "execution_count": 29
    }
   ],
   "source": [
    "bike_data.head(10)"
   ]
  },
  {
   "cell_type": "code",
   "execution_count": 31,
   "metadata": {},
   "outputs": [
    {
     "output_type": "execute_result",
     "data": {
      "text/plain": [
       "         Date_out  Time_out  Station_no_out           Station_out  \\\n",
       "36590  2019-10-05        23             130  130. 신촌역(2호선) 7번출구 앞   \n",
       "36591  2019-10-05        23            2215      2215. 반포종합운동장 입구   \n",
       "36592  2019-10-05        23             654         654. 전농동 텃골공원   \n",
       "36593  2019-10-05        23             119          119. 서강나루 공원   \n",
       "36594  2019-10-05        23             630         630. 동대문구 보건소   \n",
       "\n",
       "      Membership_type Gender Age_Group Momentum  Station_no_in    Station_in  \\\n",
       "36590             일일권      M       30대   110.06            432       마포중앙도서관   \n",
       "36591             일일권      M       30대   153.15           2221  하나은행 방배동지점 앞   \n",
       "36592             일일권      M       40대    65.12            654      전농동 텃골공원   \n",
       "36593             일일권      M       40대    78.76           3102         연희삼거리   \n",
       "36594             단체권    NaN       20대    22.83            660        동의보감타워   \n",
       "\n",
       "                      Date_in    Bike_no Carbon_amount  Distance  Duration  \n",
       "36590  2019-10-06 오전 12:06:20  SPB-14263           0.9      3860        23  \n",
       "36591  2019-10-06 오전 12:27:55  SPB-17557          1.38      5950        32  \n",
       "36592  2019-10-06 오전 12:09:12  SPB-18226          0.59      2530        17  \n",
       "36593  2019-10-05 오후 11:44:39  SPB-21624          0.71      3060        17  \n",
       "36594  2019-10-05 오후 11:27:13  SPB-02538          0.14       620         5  "
      ],
      "text/html": "<div>\n<style scoped>\n    .dataframe tbody tr th:only-of-type {\n        vertical-align: middle;\n    }\n\n    .dataframe tbody tr th {\n        vertical-align: top;\n    }\n\n    .dataframe thead th {\n        text-align: right;\n    }\n</style>\n<table border=\"1\" class=\"dataframe\">\n  <thead>\n    <tr style=\"text-align: right;\">\n      <th></th>\n      <th>Date_out</th>\n      <th>Time_out</th>\n      <th>Station_no_out</th>\n      <th>Station_out</th>\n      <th>Membership_type</th>\n      <th>Gender</th>\n      <th>Age_Group</th>\n      <th>Momentum</th>\n      <th>Station_no_in</th>\n      <th>Station_in</th>\n      <th>Date_in</th>\n      <th>Bike_no</th>\n      <th>Carbon_amount</th>\n      <th>Distance</th>\n      <th>Duration</th>\n    </tr>\n  </thead>\n  <tbody>\n    <tr>\n      <th>36590</th>\n      <td>2019-10-05</td>\n      <td>23</td>\n      <td>130</td>\n      <td>130. 신촌역(2호선) 7번출구 앞</td>\n      <td>일일권</td>\n      <td>M</td>\n      <td>30대</td>\n      <td>110.06</td>\n      <td>432</td>\n      <td>마포중앙도서관</td>\n      <td>2019-10-06 오전 12:06:20</td>\n      <td>SPB-14263</td>\n      <td>0.9</td>\n      <td>3860</td>\n      <td>23</td>\n    </tr>\n    <tr>\n      <th>36591</th>\n      <td>2019-10-05</td>\n      <td>23</td>\n      <td>2215</td>\n      <td>2215. 반포종합운동장 입구</td>\n      <td>일일권</td>\n      <td>M</td>\n      <td>30대</td>\n      <td>153.15</td>\n      <td>2221</td>\n      <td>하나은행 방배동지점 앞</td>\n      <td>2019-10-06 오전 12:27:55</td>\n      <td>SPB-17557</td>\n      <td>1.38</td>\n      <td>5950</td>\n      <td>32</td>\n    </tr>\n    <tr>\n      <th>36592</th>\n      <td>2019-10-05</td>\n      <td>23</td>\n      <td>654</td>\n      <td>654. 전농동 텃골공원</td>\n      <td>일일권</td>\n      <td>M</td>\n      <td>40대</td>\n      <td>65.12</td>\n      <td>654</td>\n      <td>전농동 텃골공원</td>\n      <td>2019-10-06 오전 12:09:12</td>\n      <td>SPB-18226</td>\n      <td>0.59</td>\n      <td>2530</td>\n      <td>17</td>\n    </tr>\n    <tr>\n      <th>36593</th>\n      <td>2019-10-05</td>\n      <td>23</td>\n      <td>119</td>\n      <td>119. 서강나루 공원</td>\n      <td>일일권</td>\n      <td>M</td>\n      <td>40대</td>\n      <td>78.76</td>\n      <td>3102</td>\n      <td>연희삼거리</td>\n      <td>2019-10-05 오후 11:44:39</td>\n      <td>SPB-21624</td>\n      <td>0.71</td>\n      <td>3060</td>\n      <td>17</td>\n    </tr>\n    <tr>\n      <th>36594</th>\n      <td>2019-10-05</td>\n      <td>23</td>\n      <td>630</td>\n      <td>630. 동대문구 보건소</td>\n      <td>단체권</td>\n      <td>NaN</td>\n      <td>20대</td>\n      <td>22.83</td>\n      <td>660</td>\n      <td>동의보감타워</td>\n      <td>2019-10-05 오후 11:27:13</td>\n      <td>SPB-02538</td>\n      <td>0.14</td>\n      <td>620</td>\n      <td>5</td>\n    </tr>\n  </tbody>\n</table>\n</div>"
     },
     "metadata": {},
     "execution_count": 31
    }
   ],
   "source": [
    "bike_data.tail()"
   ]
  },
  {
   "cell_type": "code",
   "execution_count": 33,
   "metadata": {},
   "outputs": [
    {
     "output_type": "execute_result",
     "data": {
      "text/plain": [
       "(36595, 15)"
      ]
     },
     "metadata": {},
     "execution_count": 33
    }
   ],
   "source": [
    "bike_data.shape"
   ]
  },
  {
   "cell_type": "code",
   "execution_count": 35,
   "metadata": {},
   "outputs": [
    {
     "output_type": "stream",
     "name": "stdout",
     "text": [
      "<class 'pandas.core.frame.DataFrame'>\nRangeIndex: 36595 entries, 0 to 36594\nData columns (total 15 columns):\n #   Column           Non-Null Count  Dtype \n---  ------           --------------  ----- \n 0   Date_out         36595 non-null  object\n 1   Time_out         36595 non-null  int64 \n 2   Station_no_out   36595 non-null  int64 \n 3   Station_out      36595 non-null  object\n 4   Membership_type  36595 non-null  object\n 5   Gender           18262 non-null  object\n 6   Age_Group        36595 non-null  object\n 7   Momentum         36595 non-null  object\n 8   Station_no_in    36595 non-null  int64 \n 9   Station_in       36595 non-null  object\n 10  Date_in          36595 non-null  object\n 11  Bike_no          36595 non-null  object\n 12  Carbon_amount    36595 non-null  object\n 13  Distance         36595 non-null  int64 \n 14  Duration         36595 non-null  int64 \ndtypes: int64(5), object(10)\nmemory usage: 4.2+ MB\n"
     ]
    }
   ],
   "source": [
    "bike_data.info()"
   ]
  },
  {
   "cell_type": "code",
   "execution_count": 37,
   "metadata": {},
   "outputs": [
    {
     "output_type": "execute_result",
     "data": {
      "text/plain": [
       "Date_out           2019-10-032019-10-032019-10-032019-10-032019-1...\n",
       "Time_out                                                      523993\n",
       "Station_no_out                                              27733794\n",
       "Station_out        129. 신촌역(2호선) 6번출구 옆150. 서강대역 2번출구 앞240. 문래역 4...\n",
       "Membership_type    정기권정기권정기권정기권정기권정기권정기권정기권정기권정기권정기권정기권정기권정기권정기권정...\n",
       "Age_Group          ~10대20대20대20대20대20대20대20대20대30대30대30대30대30대30대...\n",
       "Momentum           28.27146.4637.13134.6285.8315.6830.3729.8946.7...\n",
       "Station_no_in                                               32412858\n",
       "Station_in         신성기사식당 앞서울시여성가족재단삼성생명 당산사옥 앞길음8골어린이공원 옆청계8가사거리...\n",
       "Date_in            2019-10-03 오전 12:20:422019-10-03 오전 1:16:32201...\n",
       "Bike_no            SPB-15000SPB-13087SPB-23229SPB-14181SPB-15221S...\n",
       "Carbon_amount      0.241.320.291.210.670.150.270.260.380.340.190....\n",
       "Distance                                                   154185430\n",
       "Duration                                                     1135191\n",
       "dtype: object"
      ]
     },
     "metadata": {},
     "execution_count": 37
    }
   ],
   "source": [
    "#describe 기본적인 기술 통계를 다 볼 수 있음\n",
    "bike_data.sum()"
   ]
  },
  {
   "cell_type": "code",
   "execution_count": 39,
   "metadata": {},
   "outputs": [
    {
     "output_type": "execute_result",
     "data": {
      "text/plain": [
       "154185430"
      ]
     },
     "metadata": {},
     "execution_count": 39
    }
   ],
   "source": [
    "bike_data.Distance.sum()"
   ]
  },
  {
   "cell_type": "code",
   "execution_count": 41,
   "metadata": {},
   "outputs": [
    {
     "output_type": "execute_result",
     "data": {
      "text/plain": [
       "154185430"
      ]
     },
     "metadata": {},
     "execution_count": 41
    }
   ],
   "source": [
    "bike_data[\"Distance\"].sum()"
   ]
  },
  {
   "cell_type": "code",
   "execution_count": 43,
   "metadata": {},
   "outputs": [
    {
     "output_type": "execute_result",
     "data": {
      "text/plain": [
       "array(['정기권', '일일권', '단체권', '일일권(비회원)'], dtype=object)"
      ]
     },
     "metadata": {},
     "execution_count": 43
    }
   ],
   "source": [
    "bike_data[\"Membership_type\"].unique()"
   ]
  },
  {
   "cell_type": "code",
   "execution_count": 45,
   "metadata": {},
   "outputs": [
    {
     "output_type": "execute_result",
     "data": {
      "text/plain": [
       "정기권         0.751496\n",
       "일일권         0.244760\n",
       "단체권         0.003689\n",
       "일일권(비회원)    0.000055\n",
       "Name: Membership_type, dtype: float64"
      ]
     },
     "metadata": {},
     "execution_count": 45
    }
   ],
   "source": [
    "bike_data[\"Membership_type\"].value_counts(normalize=True)"
   ]
  },
  {
   "cell_type": "code",
   "execution_count": 47,
   "metadata": {},
   "outputs": [
    {
     "output_type": "stream",
     "name": "stdout",
     "text": [
      "<class 'pandas.core.frame.DataFrame'>\nRangeIndex: 36595 entries, 0 to 36594\nData columns (total 15 columns):\n #   Column           Non-Null Count  Dtype \n---  ------           --------------  ----- \n 0   Date_out         36595 non-null  object\n 1   Time_out         36595 non-null  int64 \n 2   Station_no_out   36595 non-null  int64 \n 3   Station_out      36595 non-null  object\n 4   Membership_type  36595 non-null  object\n 5   Gender           18262 non-null  object\n 6   Age_Group        36595 non-null  object\n 7   Momentum         36595 non-null  object\n 8   Station_no_in    36595 non-null  int64 \n 9   Station_in       36595 non-null  object\n 10  Date_in          36595 non-null  object\n 11  Bike_no          36595 non-null  object\n 12  Carbon_amount    36595 non-null  object\n 13  Distance         36595 non-null  int64 \n 14  Duration         36595 non-null  int64 \ndtypes: int64(5), object(10)\nmemory usage: 4.2+ MB\n"
     ]
    }
   ],
   "source": [
    "bike_data.info()"
   ]
  },
  {
   "cell_type": "code",
   "execution_count": 48,
   "metadata": {},
   "outputs": [
    {
     "output_type": "execute_result",
     "data": {
      "text/plain": [
       "         Date_out  Time_out  Station_no_out           Station_out  \\\n",
       "3347   2019-10-03        14             113     113. 홍대입구역 2번출구 앞   \n",
       "14547  2019-10-04        10             203    203. 국회의사당역 3번출구 옆   \n",
       "15697  2019-10-04        12             211      211. 여의도역 4번출구 옆   \n",
       "20683  2019-10-04        19             238       238. 제2구민체육센타 앞   \n",
       "25700  2019-10-05         3            2259  2259. 잠원역 3번-4번 출구사이   \n",
       "27995  2019-10-05        11             274  274. 영등포역지하쇼핑센타 5번출구   \n",
       "30112  2019-10-05        14             437         437. 대흥역 1번출구   \n",
       "32978  2019-10-05        18             274  274. 영등포역지하쇼핑센타 5번출구   \n",
       "34459  2019-10-05        20             146       146. 마포역 2번출구 뒤   \n",
       "\n",
       "      Membership_type Gender Age_Group Momentum  Station_no_in  \\\n",
       "3347              정기권      F       30대       \\N            113   \n",
       "14547             정기권      F      70대~       \\N            214   \n",
       "15697             정기권      M       20대       \\N            217   \n",
       "20683             정기권    NaN       20대       \\N            238   \n",
       "25700             정기권    NaN       40대       \\N           2217   \n",
       "27995             정기권    NaN       40대       \\N            279   \n",
       "30112             정기권      M       30대       \\N            135   \n",
       "32978             정기권      F       20대       \\N            274   \n",
       "34459             정기권      F       20대       \\N            109   \n",
       "\n",
       "            Station_in                 Date_in    Bike_no Carbon_amount  \\\n",
       "3347      홍대입구역 2번출구 앞   2019-10-03 오후 7:56:30  SPB-19656            \\N   \n",
       "14547          금융감독원 앞   2019-10-04 오전 8:41:49  SPB-14566            \\N   \n",
       "15697         NH농협은행 앞  2019-10-04 오전 10:00:22  SPB-05742            \\N   \n",
       "20683       제2구민체육센타 앞   2019-10-04 오후 8:34:07  SPB-18370            \\N   \n",
       "25700      아크로리버뷰 부지 앞   2019-10-05 오후 9:23:46  SPB-03337            \\N   \n",
       "27995     영등포 푸르지오 아파트  2019-10-05 오후 10:03:10  SPB-15669            \\N   \n",
       "30112       명물길 원형무대 앞  2019-10-05 오후 10:55:50  SPB-17475            \\N   \n",
       "32978  영등포역지하쇼핑센타 5번출구   2019-10-05 오후 3:46:34  SPB-16977            \\N   \n",
       "34459           제일빌딩 앞   2019-10-05 오후 8:21:07  SPB-18232            \\N   \n",
       "\n",
       "       Distance  Duration  \n",
       "3347          0         2  \n",
       "14547         0         5  \n",
       "15697         0         5  \n",
       "20683         0         3  \n",
       "25700         0         7  \n",
       "27995         0        10  \n",
       "30112         0        10  \n",
       "32978         0         7  \n",
       "34459         0        19  "
      ],
      "text/html": "<div>\n<style scoped>\n    .dataframe tbody tr th:only-of-type {\n        vertical-align: middle;\n    }\n\n    .dataframe tbody tr th {\n        vertical-align: top;\n    }\n\n    .dataframe thead th {\n        text-align: right;\n    }\n</style>\n<table border=\"1\" class=\"dataframe\">\n  <thead>\n    <tr style=\"text-align: right;\">\n      <th></th>\n      <th>Date_out</th>\n      <th>Time_out</th>\n      <th>Station_no_out</th>\n      <th>Station_out</th>\n      <th>Membership_type</th>\n      <th>Gender</th>\n      <th>Age_Group</th>\n      <th>Momentum</th>\n      <th>Station_no_in</th>\n      <th>Station_in</th>\n      <th>Date_in</th>\n      <th>Bike_no</th>\n      <th>Carbon_amount</th>\n      <th>Distance</th>\n      <th>Duration</th>\n    </tr>\n  </thead>\n  <tbody>\n    <tr>\n      <th>3347</th>\n      <td>2019-10-03</td>\n      <td>14</td>\n      <td>113</td>\n      <td>113. 홍대입구역 2번출구 앞</td>\n      <td>정기권</td>\n      <td>F</td>\n      <td>30대</td>\n      <td>\\N</td>\n      <td>113</td>\n      <td>홍대입구역 2번출구 앞</td>\n      <td>2019-10-03 오후 7:56:30</td>\n      <td>SPB-19656</td>\n      <td>\\N</td>\n      <td>0</td>\n      <td>2</td>\n    </tr>\n    <tr>\n      <th>14547</th>\n      <td>2019-10-04</td>\n      <td>10</td>\n      <td>203</td>\n      <td>203. 국회의사당역 3번출구 옆</td>\n      <td>정기권</td>\n      <td>F</td>\n      <td>70대~</td>\n      <td>\\N</td>\n      <td>214</td>\n      <td>금융감독원 앞</td>\n      <td>2019-10-04 오전 8:41:49</td>\n      <td>SPB-14566</td>\n      <td>\\N</td>\n      <td>0</td>\n      <td>5</td>\n    </tr>\n    <tr>\n      <th>15697</th>\n      <td>2019-10-04</td>\n      <td>12</td>\n      <td>211</td>\n      <td>211. 여의도역 4번출구 옆</td>\n      <td>정기권</td>\n      <td>M</td>\n      <td>20대</td>\n      <td>\\N</td>\n      <td>217</td>\n      <td>NH농협은행 앞</td>\n      <td>2019-10-04 오전 10:00:22</td>\n      <td>SPB-05742</td>\n      <td>\\N</td>\n      <td>0</td>\n      <td>5</td>\n    </tr>\n    <tr>\n      <th>20683</th>\n      <td>2019-10-04</td>\n      <td>19</td>\n      <td>238</td>\n      <td>238. 제2구민체육센타 앞</td>\n      <td>정기권</td>\n      <td>NaN</td>\n      <td>20대</td>\n      <td>\\N</td>\n      <td>238</td>\n      <td>제2구민체육센타 앞</td>\n      <td>2019-10-04 오후 8:34:07</td>\n      <td>SPB-18370</td>\n      <td>\\N</td>\n      <td>0</td>\n      <td>3</td>\n    </tr>\n    <tr>\n      <th>25700</th>\n      <td>2019-10-05</td>\n      <td>3</td>\n      <td>2259</td>\n      <td>2259. 잠원역 3번-4번 출구사이</td>\n      <td>정기권</td>\n      <td>NaN</td>\n      <td>40대</td>\n      <td>\\N</td>\n      <td>2217</td>\n      <td>아크로리버뷰 부지 앞</td>\n      <td>2019-10-05 오후 9:23:46</td>\n      <td>SPB-03337</td>\n      <td>\\N</td>\n      <td>0</td>\n      <td>7</td>\n    </tr>\n    <tr>\n      <th>27995</th>\n      <td>2019-10-05</td>\n      <td>11</td>\n      <td>274</td>\n      <td>274. 영등포역지하쇼핑센타 5번출구</td>\n      <td>정기권</td>\n      <td>NaN</td>\n      <td>40대</td>\n      <td>\\N</td>\n      <td>279</td>\n      <td>영등포 푸르지오 아파트</td>\n      <td>2019-10-05 오후 10:03:10</td>\n      <td>SPB-15669</td>\n      <td>\\N</td>\n      <td>0</td>\n      <td>10</td>\n    </tr>\n    <tr>\n      <th>30112</th>\n      <td>2019-10-05</td>\n      <td>14</td>\n      <td>437</td>\n      <td>437. 대흥역 1번출구</td>\n      <td>정기권</td>\n      <td>M</td>\n      <td>30대</td>\n      <td>\\N</td>\n      <td>135</td>\n      <td>명물길 원형무대 앞</td>\n      <td>2019-10-05 오후 10:55:50</td>\n      <td>SPB-17475</td>\n      <td>\\N</td>\n      <td>0</td>\n      <td>10</td>\n    </tr>\n    <tr>\n      <th>32978</th>\n      <td>2019-10-05</td>\n      <td>18</td>\n      <td>274</td>\n      <td>274. 영등포역지하쇼핑센타 5번출구</td>\n      <td>정기권</td>\n      <td>F</td>\n      <td>20대</td>\n      <td>\\N</td>\n      <td>274</td>\n      <td>영등포역지하쇼핑센타 5번출구</td>\n      <td>2019-10-05 오후 3:46:34</td>\n      <td>SPB-16977</td>\n      <td>\\N</td>\n      <td>0</td>\n      <td>7</td>\n    </tr>\n    <tr>\n      <th>34459</th>\n      <td>2019-10-05</td>\n      <td>20</td>\n      <td>146</td>\n      <td>146. 마포역 2번출구 뒤</td>\n      <td>정기권</td>\n      <td>F</td>\n      <td>20대</td>\n      <td>\\N</td>\n      <td>109</td>\n      <td>제일빌딩 앞</td>\n      <td>2019-10-05 오후 8:21:07</td>\n      <td>SPB-18232</td>\n      <td>\\N</td>\n      <td>0</td>\n      <td>19</td>\n    </tr>\n  </tbody>\n</table>\n</div>"
     },
     "metadata": {},
     "execution_count": 48
    }
   ],
   "source": [
    "bike_data[bike_data.Momentum=='\\\\N']"
   ]
  },
  {
   "cell_type": "code",
   "execution_count": 49,
   "metadata": {},
   "outputs": [],
   "source": [
    "#결측값이 만드는 문제\n",
    "#결측값을 처리하는 과정이 필요\n",
    "#데이터 전처리\n",
    "#데이터 정제:\n",
    "#데이터 통합:\n",
    "#데이터 축소:\n",
    "#데이터 변환:"
   ]
  },
  {
   "cell_type": "code",
   "execution_count": 50,
   "metadata": {},
   "outputs": [
    {
     "output_type": "stream",
     "name": "stdout",
     "text": [
      "<class 'pandas.core.frame.DataFrame'>\nRangeIndex: 36595 entries, 0 to 36594\nData columns (total 15 columns):\n #   Column           Non-Null Count  Dtype \n---  ------           --------------  ----- \n 0   Date_out         36595 non-null  object\n 1   Time_out         36595 non-null  int64 \n 2   Station_no_out   36595 non-null  int64 \n 3   Station_out      36595 non-null  object\n 4   Membership_type  36595 non-null  object\n 5   Gender           18262 non-null  object\n 6   Age_Group        36595 non-null  object\n 7   Momentum         36595 non-null  object\n 8   Station_no_in    36595 non-null  int64 \n 9   Station_in       36595 non-null  object\n 10  Date_in          36595 non-null  object\n 11  Bike_no          36595 non-null  object\n 12  Carbon_amount    36595 non-null  object\n 13  Distance         36595 non-null  int64 \n 14  Duration         36595 non-null  int64 \ndtypes: int64(5), object(10)\nmemory usage: 4.2+ MB\n"
     ]
    }
   ],
   "source": [
    "bike_data.info()"
   ]
  },
  {
   "cell_type": "code",
   "execution_count": 51,
   "metadata": {},
   "outputs": [
    {
     "output_type": "execute_result",
     "data": {
      "text/plain": [
       "         Date_out  Time_out  Station_no_out           Station_out  \\\n",
       "0      2019-10-03         0             129  129. 신촌역(2호선) 6번출구 옆   \n",
       "1      2019-10-03         0             150      150. 서강대역 2번출구 앞   \n",
       "2      2019-10-03         0             240       240. 문래역 4번출구 앞   \n",
       "3      2019-10-03         0             623       623. 서울시립대 정문 앞   \n",
       "4      2019-10-03         0             633       633. 청량리 기업은행 앞   \n",
       "...           ...       ...             ...                   ...   \n",
       "36553  2019-10-05        23             106       106. 합정역 7번출구 앞   \n",
       "36554  2019-10-05        23            2215      2215. 반포종합운동장 입구   \n",
       "36555  2019-10-05        23            2222      2222.사당역 12번출구 뒤   \n",
       "36556  2019-10-05        23             916          916. 평생학습관 앞   \n",
       "36594  2019-10-05        23             630         630. 동대문구 보건소   \n",
       "\n",
       "      Membership_type Gender Age_Group Momentum  Station_no_in    Station_in  \\\n",
       "0                 정기권    NaN      ~10대    28.27            122      신성기사식당 앞   \n",
       "1                 정기권    NaN       20대   146.46           2065     서울시여성가족재단   \n",
       "2                 정기권    NaN       20대    37.13            245   삼성생명 당산사옥 앞   \n",
       "3                 정기권    NaN       20대   134.62           1346   길음8골어린이공원 옆   \n",
       "4                 정기권    NaN       20대    85.83            568    청계8가사거리 부근   \n",
       "...               ...    ...       ...      ...            ...           ...   \n",
       "36553             일일권    NaN       30대   383.64           1824     독산근린공원 입구   \n",
       "36554             일일권    NaN       30대   157.79           2221  하나은행 방배동지점 앞   \n",
       "36555             일일권    NaN       40대    51.74           2036  정금마을 마을버스정류장   \n",
       "36556             일일권    NaN       50대   274.94            916       평생학습관 앞   \n",
       "36594             단체권    NaN       20대    22.83            660        동의보감타워   \n",
       "\n",
       "                      Date_in    Bike_no Carbon_amount  Distance  Duration  \n",
       "0      2019-10-03 오전 12:20:42  SPB-15000          0.24      1050         5  \n",
       "1       2019-10-03 오전 1:16:32  SPB-13087          1.32      5690        32  \n",
       "2      2019-10-03 오전 12:18:21  SPB-23229          0.29      1250        10  \n",
       "3       2019-10-03 오전 1:15:39  SPB-14181          1.21      5230        24  \n",
       "4      2019-10-03 오전 12:17:58  SPB-15221          0.67      2890        11  \n",
       "...                       ...        ...           ...       ...       ...  \n",
       "36553  2019-10-06 오전 12:48:32  SPB-23655          2.81     12110        68  \n",
       "36554  2019-10-06 오전 12:28:03  SPB-13792          1.42      6130        32  \n",
       "36555  2019-10-05 오후 11:52:33  SPB-17265          0.47      2010        15  \n",
       "36556   2019-10-06 오전 1:12:15  SPB-01580          3.04     13100        80  \n",
       "36594  2019-10-05 오후 11:27:13  SPB-02538          0.14       620         5  \n",
       "\n",
       "[18333 rows x 15 columns]"
      ],
      "text/html": "<div>\n<style scoped>\n    .dataframe tbody tr th:only-of-type {\n        vertical-align: middle;\n    }\n\n    .dataframe tbody tr th {\n        vertical-align: top;\n    }\n\n    .dataframe thead th {\n        text-align: right;\n    }\n</style>\n<table border=\"1\" class=\"dataframe\">\n  <thead>\n    <tr style=\"text-align: right;\">\n      <th></th>\n      <th>Date_out</th>\n      <th>Time_out</th>\n      <th>Station_no_out</th>\n      <th>Station_out</th>\n      <th>Membership_type</th>\n      <th>Gender</th>\n      <th>Age_Group</th>\n      <th>Momentum</th>\n      <th>Station_no_in</th>\n      <th>Station_in</th>\n      <th>Date_in</th>\n      <th>Bike_no</th>\n      <th>Carbon_amount</th>\n      <th>Distance</th>\n      <th>Duration</th>\n    </tr>\n  </thead>\n  <tbody>\n    <tr>\n      <th>0</th>\n      <td>2019-10-03</td>\n      <td>0</td>\n      <td>129</td>\n      <td>129. 신촌역(2호선) 6번출구 옆</td>\n      <td>정기권</td>\n      <td>NaN</td>\n      <td>~10대</td>\n      <td>28.27</td>\n      <td>122</td>\n      <td>신성기사식당 앞</td>\n      <td>2019-10-03 오전 12:20:42</td>\n      <td>SPB-15000</td>\n      <td>0.24</td>\n      <td>1050</td>\n      <td>5</td>\n    </tr>\n    <tr>\n      <th>1</th>\n      <td>2019-10-03</td>\n      <td>0</td>\n      <td>150</td>\n      <td>150. 서강대역 2번출구 앞</td>\n      <td>정기권</td>\n      <td>NaN</td>\n      <td>20대</td>\n      <td>146.46</td>\n      <td>2065</td>\n      <td>서울시여성가족재단</td>\n      <td>2019-10-03 오전 1:16:32</td>\n      <td>SPB-13087</td>\n      <td>1.32</td>\n      <td>5690</td>\n      <td>32</td>\n    </tr>\n    <tr>\n      <th>2</th>\n      <td>2019-10-03</td>\n      <td>0</td>\n      <td>240</td>\n      <td>240. 문래역 4번출구 앞</td>\n      <td>정기권</td>\n      <td>NaN</td>\n      <td>20대</td>\n      <td>37.13</td>\n      <td>245</td>\n      <td>삼성생명 당산사옥 앞</td>\n      <td>2019-10-03 오전 12:18:21</td>\n      <td>SPB-23229</td>\n      <td>0.29</td>\n      <td>1250</td>\n      <td>10</td>\n    </tr>\n    <tr>\n      <th>3</th>\n      <td>2019-10-03</td>\n      <td>0</td>\n      <td>623</td>\n      <td>623. 서울시립대 정문 앞</td>\n      <td>정기권</td>\n      <td>NaN</td>\n      <td>20대</td>\n      <td>134.62</td>\n      <td>1346</td>\n      <td>길음8골어린이공원 옆</td>\n      <td>2019-10-03 오전 1:15:39</td>\n      <td>SPB-14181</td>\n      <td>1.21</td>\n      <td>5230</td>\n      <td>24</td>\n    </tr>\n    <tr>\n      <th>4</th>\n      <td>2019-10-03</td>\n      <td>0</td>\n      <td>633</td>\n      <td>633. 청량리 기업은행 앞</td>\n      <td>정기권</td>\n      <td>NaN</td>\n      <td>20대</td>\n      <td>85.83</td>\n      <td>568</td>\n      <td>청계8가사거리 부근</td>\n      <td>2019-10-03 오전 12:17:58</td>\n      <td>SPB-15221</td>\n      <td>0.67</td>\n      <td>2890</td>\n      <td>11</td>\n    </tr>\n    <tr>\n      <th>...</th>\n      <td>...</td>\n      <td>...</td>\n      <td>...</td>\n      <td>...</td>\n      <td>...</td>\n      <td>...</td>\n      <td>...</td>\n      <td>...</td>\n      <td>...</td>\n      <td>...</td>\n      <td>...</td>\n      <td>...</td>\n      <td>...</td>\n      <td>...</td>\n      <td>...</td>\n    </tr>\n    <tr>\n      <th>36553</th>\n      <td>2019-10-05</td>\n      <td>23</td>\n      <td>106</td>\n      <td>106. 합정역 7번출구 앞</td>\n      <td>일일권</td>\n      <td>NaN</td>\n      <td>30대</td>\n      <td>383.64</td>\n      <td>1824</td>\n      <td>독산근린공원 입구</td>\n      <td>2019-10-06 오전 12:48:32</td>\n      <td>SPB-23655</td>\n      <td>2.81</td>\n      <td>12110</td>\n      <td>68</td>\n    </tr>\n    <tr>\n      <th>36554</th>\n      <td>2019-10-05</td>\n      <td>23</td>\n      <td>2215</td>\n      <td>2215. 반포종합운동장 입구</td>\n      <td>일일권</td>\n      <td>NaN</td>\n      <td>30대</td>\n      <td>157.79</td>\n      <td>2221</td>\n      <td>하나은행 방배동지점 앞</td>\n      <td>2019-10-06 오전 12:28:03</td>\n      <td>SPB-13792</td>\n      <td>1.42</td>\n      <td>6130</td>\n      <td>32</td>\n    </tr>\n    <tr>\n      <th>36555</th>\n      <td>2019-10-05</td>\n      <td>23</td>\n      <td>2222</td>\n      <td>2222.사당역 12번출구 뒤</td>\n      <td>일일권</td>\n      <td>NaN</td>\n      <td>40대</td>\n      <td>51.74</td>\n      <td>2036</td>\n      <td>정금마을 마을버스정류장</td>\n      <td>2019-10-05 오후 11:52:33</td>\n      <td>SPB-17265</td>\n      <td>0.47</td>\n      <td>2010</td>\n      <td>15</td>\n    </tr>\n    <tr>\n      <th>36556</th>\n      <td>2019-10-05</td>\n      <td>23</td>\n      <td>916</td>\n      <td>916. 평생학습관 앞</td>\n      <td>일일권</td>\n      <td>NaN</td>\n      <td>50대</td>\n      <td>274.94</td>\n      <td>916</td>\n      <td>평생학습관 앞</td>\n      <td>2019-10-06 오전 1:12:15</td>\n      <td>SPB-01580</td>\n      <td>3.04</td>\n      <td>13100</td>\n      <td>80</td>\n    </tr>\n    <tr>\n      <th>36594</th>\n      <td>2019-10-05</td>\n      <td>23</td>\n      <td>630</td>\n      <td>630. 동대문구 보건소</td>\n      <td>단체권</td>\n      <td>NaN</td>\n      <td>20대</td>\n      <td>22.83</td>\n      <td>660</td>\n      <td>동의보감타워</td>\n      <td>2019-10-05 오후 11:27:13</td>\n      <td>SPB-02538</td>\n      <td>0.14</td>\n      <td>620</td>\n      <td>5</td>\n    </tr>\n  </tbody>\n</table>\n<p>18333 rows × 15 columns</p>\n</div>"
     },
     "metadata": {},
     "execution_count": 51
    }
   ],
   "source": [
    "bike_data[bike_data.Gender.isnull()]"
   ]
  },
  {
   "cell_type": "code",
   "execution_count": 52,
   "metadata": {},
   "outputs": [],
   "source": [
    "#NaN - 정해지지 않은 값\n",
    "bike_data.loc[bike_data.Gender.isnull(),'Gender']='U'"
   ]
  },
  {
   "cell_type": "code",
   "execution_count": 53,
   "metadata": {},
   "outputs": [
    {
     "output_type": "execute_result",
     "data": {
      "text/plain": [
       "Empty DataFrame\n",
       "Columns: [Date_out, Time_out, Station_no_out, Station_out, Membership_type, Gender, Age_Group, Momentum, Station_no_in, Station_in, Date_in, Bike_no, Carbon_amount, Distance, Duration]\n",
       "Index: []"
      ],
      "text/html": "<div>\n<style scoped>\n    .dataframe tbody tr th:only-of-type {\n        vertical-align: middle;\n    }\n\n    .dataframe tbody tr th {\n        vertical-align: top;\n    }\n\n    .dataframe thead th {\n        text-align: right;\n    }\n</style>\n<table border=\"1\" class=\"dataframe\">\n  <thead>\n    <tr style=\"text-align: right;\">\n      <th></th>\n      <th>Date_out</th>\n      <th>Time_out</th>\n      <th>Station_no_out</th>\n      <th>Station_out</th>\n      <th>Membership_type</th>\n      <th>Gender</th>\n      <th>Age_Group</th>\n      <th>Momentum</th>\n      <th>Station_no_in</th>\n      <th>Station_in</th>\n      <th>Date_in</th>\n      <th>Bike_no</th>\n      <th>Carbon_amount</th>\n      <th>Distance</th>\n      <th>Duration</th>\n    </tr>\n  </thead>\n  <tbody>\n  </tbody>\n</table>\n</div>"
     },
     "metadata": {},
     "execution_count": 53
    }
   ],
   "source": [
    "bike_data[bike_data.Gender.isnull()]"
   ]
  },
  {
   "cell_type": "code",
   "execution_count": 54,
   "metadata": {},
   "outputs": [
    {
     "output_type": "execute_result",
     "data": {
      "text/plain": [
       "U    18333\n",
       "M    11025\n",
       "F     7219\n",
       "m       14\n",
       "f        4\n",
       "Name: Gender, dtype: int64"
      ]
     },
     "metadata": {},
     "execution_count": 54
    }
   ],
   "source": [
    "bike_data.Gender.value_counts()"
   ]
  },
  {
   "cell_type": "code",
   "execution_count": 55,
   "metadata": {},
   "outputs": [
    {
     "output_type": "execute_result",
     "data": {
      "text/plain": [
       "         Date_out  Time_out  Station_no_out           Station_out  \\\n",
       "3347   2019-10-03        14             113     113. 홍대입구역 2번출구 앞   \n",
       "14547  2019-10-04        10             203    203. 국회의사당역 3번출구 옆   \n",
       "15697  2019-10-04        12             211      211. 여의도역 4번출구 옆   \n",
       "20683  2019-10-04        19             238       238. 제2구민체육센타 앞   \n",
       "25700  2019-10-05         3            2259  2259. 잠원역 3번-4번 출구사이   \n",
       "27995  2019-10-05        11             274  274. 영등포역지하쇼핑센타 5번출구   \n",
       "30112  2019-10-05        14             437         437. 대흥역 1번출구   \n",
       "32978  2019-10-05        18             274  274. 영등포역지하쇼핑센타 5번출구   \n",
       "34459  2019-10-05        20             146       146. 마포역 2번출구 뒤   \n",
       "\n",
       "      Membership_type Gender Age_Group Momentum  Station_no_in  \\\n",
       "3347              정기권      F       30대       \\N            113   \n",
       "14547             정기권      F      70대~       \\N            214   \n",
       "15697             정기권      M       20대       \\N            217   \n",
       "20683             정기권      U       20대       \\N            238   \n",
       "25700             정기권      U       40대       \\N           2217   \n",
       "27995             정기권      U       40대       \\N            279   \n",
       "30112             정기권      M       30대       \\N            135   \n",
       "32978             정기권      F       20대       \\N            274   \n",
       "34459             정기권      F       20대       \\N            109   \n",
       "\n",
       "            Station_in                 Date_in    Bike_no Carbon_amount  \\\n",
       "3347      홍대입구역 2번출구 앞   2019-10-03 오후 7:56:30  SPB-19656            \\N   \n",
       "14547          금융감독원 앞   2019-10-04 오전 8:41:49  SPB-14566            \\N   \n",
       "15697         NH농협은행 앞  2019-10-04 오전 10:00:22  SPB-05742            \\N   \n",
       "20683       제2구민체육센타 앞   2019-10-04 오후 8:34:07  SPB-18370            \\N   \n",
       "25700      아크로리버뷰 부지 앞   2019-10-05 오후 9:23:46  SPB-03337            \\N   \n",
       "27995     영등포 푸르지오 아파트  2019-10-05 오후 10:03:10  SPB-15669            \\N   \n",
       "30112       명물길 원형무대 앞  2019-10-05 오후 10:55:50  SPB-17475            \\N   \n",
       "32978  영등포역지하쇼핑센타 5번출구   2019-10-05 오후 3:46:34  SPB-16977            \\N   \n",
       "34459           제일빌딩 앞   2019-10-05 오후 8:21:07  SPB-18232            \\N   \n",
       "\n",
       "       Distance  Duration  \n",
       "3347          0         2  \n",
       "14547         0         5  \n",
       "15697         0         5  \n",
       "20683         0         3  \n",
       "25700         0         7  \n",
       "27995         0        10  \n",
       "30112         0        10  \n",
       "32978         0         7  \n",
       "34459         0        19  "
      ],
      "text/html": "<div>\n<style scoped>\n    .dataframe tbody tr th:only-of-type {\n        vertical-align: middle;\n    }\n\n    .dataframe tbody tr th {\n        vertical-align: top;\n    }\n\n    .dataframe thead th {\n        text-align: right;\n    }\n</style>\n<table border=\"1\" class=\"dataframe\">\n  <thead>\n    <tr style=\"text-align: right;\">\n      <th></th>\n      <th>Date_out</th>\n      <th>Time_out</th>\n      <th>Station_no_out</th>\n      <th>Station_out</th>\n      <th>Membership_type</th>\n      <th>Gender</th>\n      <th>Age_Group</th>\n      <th>Momentum</th>\n      <th>Station_no_in</th>\n      <th>Station_in</th>\n      <th>Date_in</th>\n      <th>Bike_no</th>\n      <th>Carbon_amount</th>\n      <th>Distance</th>\n      <th>Duration</th>\n    </tr>\n  </thead>\n  <tbody>\n    <tr>\n      <th>3347</th>\n      <td>2019-10-03</td>\n      <td>14</td>\n      <td>113</td>\n      <td>113. 홍대입구역 2번출구 앞</td>\n      <td>정기권</td>\n      <td>F</td>\n      <td>30대</td>\n      <td>\\N</td>\n      <td>113</td>\n      <td>홍대입구역 2번출구 앞</td>\n      <td>2019-10-03 오후 7:56:30</td>\n      <td>SPB-19656</td>\n      <td>\\N</td>\n      <td>0</td>\n      <td>2</td>\n    </tr>\n    <tr>\n      <th>14547</th>\n      <td>2019-10-04</td>\n      <td>10</td>\n      <td>203</td>\n      <td>203. 국회의사당역 3번출구 옆</td>\n      <td>정기권</td>\n      <td>F</td>\n      <td>70대~</td>\n      <td>\\N</td>\n      <td>214</td>\n      <td>금융감독원 앞</td>\n      <td>2019-10-04 오전 8:41:49</td>\n      <td>SPB-14566</td>\n      <td>\\N</td>\n      <td>0</td>\n      <td>5</td>\n    </tr>\n    <tr>\n      <th>15697</th>\n      <td>2019-10-04</td>\n      <td>12</td>\n      <td>211</td>\n      <td>211. 여의도역 4번출구 옆</td>\n      <td>정기권</td>\n      <td>M</td>\n      <td>20대</td>\n      <td>\\N</td>\n      <td>217</td>\n      <td>NH농협은행 앞</td>\n      <td>2019-10-04 오전 10:00:22</td>\n      <td>SPB-05742</td>\n      <td>\\N</td>\n      <td>0</td>\n      <td>5</td>\n    </tr>\n    <tr>\n      <th>20683</th>\n      <td>2019-10-04</td>\n      <td>19</td>\n      <td>238</td>\n      <td>238. 제2구민체육센타 앞</td>\n      <td>정기권</td>\n      <td>U</td>\n      <td>20대</td>\n      <td>\\N</td>\n      <td>238</td>\n      <td>제2구민체육센타 앞</td>\n      <td>2019-10-04 오후 8:34:07</td>\n      <td>SPB-18370</td>\n      <td>\\N</td>\n      <td>0</td>\n      <td>3</td>\n    </tr>\n    <tr>\n      <th>25700</th>\n      <td>2019-10-05</td>\n      <td>3</td>\n      <td>2259</td>\n      <td>2259. 잠원역 3번-4번 출구사이</td>\n      <td>정기권</td>\n      <td>U</td>\n      <td>40대</td>\n      <td>\\N</td>\n      <td>2217</td>\n      <td>아크로리버뷰 부지 앞</td>\n      <td>2019-10-05 오후 9:23:46</td>\n      <td>SPB-03337</td>\n      <td>\\N</td>\n      <td>0</td>\n      <td>7</td>\n    </tr>\n    <tr>\n      <th>27995</th>\n      <td>2019-10-05</td>\n      <td>11</td>\n      <td>274</td>\n      <td>274. 영등포역지하쇼핑센타 5번출구</td>\n      <td>정기권</td>\n      <td>U</td>\n      <td>40대</td>\n      <td>\\N</td>\n      <td>279</td>\n      <td>영등포 푸르지오 아파트</td>\n      <td>2019-10-05 오후 10:03:10</td>\n      <td>SPB-15669</td>\n      <td>\\N</td>\n      <td>0</td>\n      <td>10</td>\n    </tr>\n    <tr>\n      <th>30112</th>\n      <td>2019-10-05</td>\n      <td>14</td>\n      <td>437</td>\n      <td>437. 대흥역 1번출구</td>\n      <td>정기권</td>\n      <td>M</td>\n      <td>30대</td>\n      <td>\\N</td>\n      <td>135</td>\n      <td>명물길 원형무대 앞</td>\n      <td>2019-10-05 오후 10:55:50</td>\n      <td>SPB-17475</td>\n      <td>\\N</td>\n      <td>0</td>\n      <td>10</td>\n    </tr>\n    <tr>\n      <th>32978</th>\n      <td>2019-10-05</td>\n      <td>18</td>\n      <td>274</td>\n      <td>274. 영등포역지하쇼핑센타 5번출구</td>\n      <td>정기권</td>\n      <td>F</td>\n      <td>20대</td>\n      <td>\\N</td>\n      <td>274</td>\n      <td>영등포역지하쇼핑센타 5번출구</td>\n      <td>2019-10-05 오후 3:46:34</td>\n      <td>SPB-16977</td>\n      <td>\\N</td>\n      <td>0</td>\n      <td>7</td>\n    </tr>\n    <tr>\n      <th>34459</th>\n      <td>2019-10-05</td>\n      <td>20</td>\n      <td>146</td>\n      <td>146. 마포역 2번출구 뒤</td>\n      <td>정기권</td>\n      <td>F</td>\n      <td>20대</td>\n      <td>\\N</td>\n      <td>109</td>\n      <td>제일빌딩 앞</td>\n      <td>2019-10-05 오후 8:21:07</td>\n      <td>SPB-18232</td>\n      <td>\\N</td>\n      <td>0</td>\n      <td>19</td>\n    </tr>\n  </tbody>\n</table>\n</div>"
     },
     "metadata": {},
     "execution_count": 55
    }
   ],
   "source": [
    "bike_data[bike_data.Momentum==\"\\\\N\"]"
   ]
  },
  {
   "cell_type": "code",
   "execution_count": 56,
   "metadata": {},
   "outputs": [],
   "source": [
    "import numpy as np\n",
    "\n",
    "bike_data.loc[bike_data.Momentum=='\\\\N','Momentum']=np.nan"
   ]
  },
  {
   "cell_type": "code",
   "execution_count": 57,
   "metadata": {},
   "outputs": [
    {
     "output_type": "execute_result",
     "data": {
      "text/plain": [
       "Empty DataFrame\n",
       "Columns: [Date_out, Time_out, Station_no_out, Station_out, Membership_type, Gender, Age_Group, Momentum, Station_no_in, Station_in, Date_in, Bike_no, Carbon_amount, Distance, Duration]\n",
       "Index: []"
      ],
      "text/html": "<div>\n<style scoped>\n    .dataframe tbody tr th:only-of-type {\n        vertical-align: middle;\n    }\n\n    .dataframe tbody tr th {\n        vertical-align: top;\n    }\n\n    .dataframe thead th {\n        text-align: right;\n    }\n</style>\n<table border=\"1\" class=\"dataframe\">\n  <thead>\n    <tr style=\"text-align: right;\">\n      <th></th>\n      <th>Date_out</th>\n      <th>Time_out</th>\n      <th>Station_no_out</th>\n      <th>Station_out</th>\n      <th>Membership_type</th>\n      <th>Gender</th>\n      <th>Age_Group</th>\n      <th>Momentum</th>\n      <th>Station_no_in</th>\n      <th>Station_in</th>\n      <th>Date_in</th>\n      <th>Bike_no</th>\n      <th>Carbon_amount</th>\n      <th>Distance</th>\n      <th>Duration</th>\n    </tr>\n  </thead>\n  <tbody>\n  </tbody>\n</table>\n</div>"
     },
     "metadata": {},
     "execution_count": 57
    }
   ],
   "source": [
    "bike_data[bike_data.Momentum==\"\\\\N\"]"
   ]
  },
  {
   "cell_type": "code",
   "execution_count": 60,
   "metadata": {},
   "outputs": [],
   "source": [
    "bike_data.dropna(inplace=True)"
   ]
  },
  {
   "cell_type": "code",
   "execution_count": 61,
   "metadata": {},
   "outputs": [
    {
     "output_type": "stream",
     "name": "stdout",
     "text": [
      "<class 'pandas.core.frame.DataFrame'>\nInt64Index: 36586 entries, 0 to 36594\nData columns (total 15 columns):\n #   Column           Non-Null Count  Dtype \n---  ------           --------------  ----- \n 0   Date_out         36586 non-null  object\n 1   Time_out         36586 non-null  int64 \n 2   Station_no_out   36586 non-null  int64 \n 3   Station_out      36586 non-null  object\n 4   Membership_type  36586 non-null  object\n 5   Gender           36586 non-null  object\n 6   Age_Group        36586 non-null  object\n 7   Momentum         36586 non-null  object\n 8   Station_no_in    36586 non-null  int64 \n 9   Station_in       36586 non-null  object\n 10  Date_in          36586 non-null  object\n 11  Bike_no          36586 non-null  object\n 12  Carbon_amount    36586 non-null  object\n 13  Distance         36586 non-null  int64 \n 14  Duration         36586 non-null  int64 \ndtypes: int64(5), object(10)\nmemory usage: 4.5+ MB\n"
     ]
    }
   ],
   "source": [
    "bike_data.info()"
   ]
  },
  {
   "cell_type": "code",
   "execution_count": 62,
   "metadata": {},
   "outputs": [
    {
     "output_type": "execute_result",
     "data": {
      "text/plain": [
       "Momentum         object\n",
       "Carbon_amount    object\n",
       "dtype: object"
      ]
     },
     "metadata": {},
     "execution_count": 62
    }
   ],
   "source": [
    "bike_data[[\"Momentum\",\"Carbon_amount\"]].dtypes"
   ]
  },
  {
   "cell_type": "code",
   "execution_count": 63,
   "metadata": {},
   "outputs": [],
   "source": [
    "bike_data[[\"Momentum\",\"Carbon_amount\"]]=bike_data[[\"Momentum\",\"Carbon_amount\"]].astype(float)"
   ]
  },
  {
   "cell_type": "code",
   "execution_count": 64,
   "metadata": {},
   "outputs": [
    {
     "output_type": "stream",
     "name": "stdout",
     "text": [
      "<class 'pandas.core.frame.DataFrame'>\nInt64Index: 36586 entries, 0 to 36594\nData columns (total 15 columns):\n #   Column           Non-Null Count  Dtype  \n---  ------           --------------  -----  \n 0   Date_out         36586 non-null  object \n 1   Time_out         36586 non-null  int64  \n 2   Station_no_out   36586 non-null  int64  \n 3   Station_out      36586 non-null  object \n 4   Membership_type  36586 non-null  object \n 5   Gender           36586 non-null  object \n 6   Age_Group        36586 non-null  object \n 7   Momentum         36586 non-null  float64\n 8   Station_no_in    36586 non-null  int64  \n 9   Station_in       36586 non-null  object \n 10  Date_in          36586 non-null  object \n 11  Bike_no          36586 non-null  object \n 12  Carbon_amount    36586 non-null  float64\n 13  Distance         36586 non-null  int64  \n 14  Duration         36586 non-null  int64  \ndtypes: float64(2), int64(5), object(8)\nmemory usage: 5.5+ MB\n"
     ]
    }
   ],
   "source": [
    "bike_data.info()"
   ]
  },
  {
   "cell_type": "code",
   "execution_count": 65,
   "metadata": {},
   "outputs": [
    {
     "output_type": "execute_result",
     "data": {
      "text/plain": [
       "Momentum         float64\n",
       "Carbon_amount    float64\n",
       "dtype: object"
      ]
     },
     "metadata": {},
     "execution_count": 65
    }
   ],
   "source": [
    "bike_data[[\"Momentum\",\"Carbon_amount\"]].dtypes"
   ]
  },
  {
   "cell_type": "code",
   "execution_count": 66,
   "metadata": {},
   "outputs": [],
   "source": [
    "#이상값\n",
    "#Turkey 방법\n",
    "\n",
    "def outlier_iqr(data):\n",
    "    q1,q3=np.percentile(data,[25,75])\n",
    "    iqr=q3-q1\n",
    "    lower_bound=q1-(iqr*1.5)\n",
    "    upper_bound=q3+(iqr*1.5)\n",
    "\n",
    "    return np.where((data>upper_bound)|(data<lower_bound))\n",
    "\n",
    "outliers=outlier_iqr(bike_data.Distance)"
   ]
  },
  {
   "cell_type": "code",
   "execution_count": 67,
   "metadata": {},
   "outputs": [
    {
     "output_type": "execute_result",
     "data": {
      "text/plain": [
       "3058"
      ]
     },
     "metadata": {},
     "execution_count": 67
    }
   ],
   "source": [
    "np.size(outliers)"
   ]
  },
  {
   "cell_type": "code",
   "execution_count": 68,
   "metadata": {},
   "outputs": [
    {
     "output_type": "execute_result",
     "data": {
      "text/plain": [
       "         Date_out  Time_out  Station_no_out             Station_out  \\\n",
       "31     2019-10-03         0             403            403. 부엉이공원 앞   \n",
       "97     2019-10-03         1             181           181. 망원초록길 입구   \n",
       "118    2019-10-03         2            2222        2222.사당역 12번출구 뒤   \n",
       "163    2019-10-03         2             903         903. 은평뉴타운 아이파크   \n",
       "247    2019-10-03         3            2505  2505. 우성아파트사거리 (기업은행앞)   \n",
       "...           ...       ...             ...                     ...   \n",
       "36564  2019-10-05        23             933          933. LG서비스 역촌점   \n",
       "36569  2019-10-05        23             148         148. 용강동 주민센터 앞   \n",
       "36575  2019-10-05        23             437           437. 대흥역 1번출구   \n",
       "36581  2019-10-05        23             641           641. 용두역 4번출구   \n",
       "36585  2019-10-05        23             648           648. 장안동위더스빌옆   \n",
       "\n",
       "      Membership_type Gender Age_Group  Momentum  Station_no_in  \\\n",
       "31                정기권      M       40대    483.28            194   \n",
       "97                일일권      U       30대    777.43           1328   \n",
       "118               정기권      U       30대    549.60           1124   \n",
       "163               정기권      M       50대    319.57            184   \n",
       "247               일일권      U       30대    373.51           1201   \n",
       "...               ...    ...       ...       ...            ...   \n",
       "36564             일일권      F       20대    220.41            418   \n",
       "36569             일일권      F       30대    335.94            146   \n",
       "36575             일일권      M       20대    346.10            437   \n",
       "36581             일일권      M       20대    303.22            583   \n",
       "36585             일일권      M       30대    824.45            398   \n",
       "\n",
       "            Station_in                 Date_in    Bike_no  Carbon_amount  \\\n",
       "31               증산교 앞   2019-10-03 오전 2:03:13  SPB-06112           3.15   \n",
       "97            월곡역 3번출구   2019-10-03 오전 3:29:29  SPB-16451           5.69   \n",
       "118    발산역 6번출구옆(다이소앞)   2019-10-03 오전 4:03:32  SPB-24365           4.74   \n",
       "163       SK망원동주유소 건너편   2019-10-03 오전 5:11:40  SPB-14422           3.12   \n",
       "247        가락시장역 3번 출구   2019-10-03 오전 4:49:48  SPB-23456           2.74   \n",
       "...                ...                     ...        ...            ...   \n",
       "36564   월드컵경기장역 3번출구 옆  2019-10-06 오전 12:29:02  SPB-07222           2.81   \n",
       "36569       마포역 2번출구 뒤   2019-10-06 오전 1:05:07  SPB-21082           3.64   \n",
       "36575         대흥역 1번출구   2019-10-06 오전 1:26:17  SPB-25415           2.67   \n",
       "36581       청계천 생태교실 앞  2019-10-06 오전 12:09:02  SPB-19379           2.73   \n",
       "36585      을지로3가역 3번출구  2019-10-06 오전 12:11:27  SPB-22806           7.43   \n",
       "\n",
       "       Distance  Duration  \n",
       "31        13560        67  \n",
       "97        24540       107  \n",
       "118       20410        81  \n",
       "163       13450       131  \n",
       "247       11790        64  \n",
       "...         ...       ...  \n",
       "36564     12100        87  \n",
       "36569     15710        85  \n",
       "36575     11500       109  \n",
       "36581     11780        57  \n",
       "36585     32030        37  \n",
       "\n",
       "[3058 rows x 15 columns]"
      ],
      "text/html": "<div>\n<style scoped>\n    .dataframe tbody tr th:only-of-type {\n        vertical-align: middle;\n    }\n\n    .dataframe tbody tr th {\n        vertical-align: top;\n    }\n\n    .dataframe thead th {\n        text-align: right;\n    }\n</style>\n<table border=\"1\" class=\"dataframe\">\n  <thead>\n    <tr style=\"text-align: right;\">\n      <th></th>\n      <th>Date_out</th>\n      <th>Time_out</th>\n      <th>Station_no_out</th>\n      <th>Station_out</th>\n      <th>Membership_type</th>\n      <th>Gender</th>\n      <th>Age_Group</th>\n      <th>Momentum</th>\n      <th>Station_no_in</th>\n      <th>Station_in</th>\n      <th>Date_in</th>\n      <th>Bike_no</th>\n      <th>Carbon_amount</th>\n      <th>Distance</th>\n      <th>Duration</th>\n    </tr>\n  </thead>\n  <tbody>\n    <tr>\n      <th>31</th>\n      <td>2019-10-03</td>\n      <td>0</td>\n      <td>403</td>\n      <td>403. 부엉이공원 앞</td>\n      <td>정기권</td>\n      <td>M</td>\n      <td>40대</td>\n      <td>483.28</td>\n      <td>194</td>\n      <td>증산교 앞</td>\n      <td>2019-10-03 오전 2:03:13</td>\n      <td>SPB-06112</td>\n      <td>3.15</td>\n      <td>13560</td>\n      <td>67</td>\n    </tr>\n    <tr>\n      <th>97</th>\n      <td>2019-10-03</td>\n      <td>1</td>\n      <td>181</td>\n      <td>181. 망원초록길 입구</td>\n      <td>일일권</td>\n      <td>U</td>\n      <td>30대</td>\n      <td>777.43</td>\n      <td>1328</td>\n      <td>월곡역 3번출구</td>\n      <td>2019-10-03 오전 3:29:29</td>\n      <td>SPB-16451</td>\n      <td>5.69</td>\n      <td>24540</td>\n      <td>107</td>\n    </tr>\n    <tr>\n      <th>118</th>\n      <td>2019-10-03</td>\n      <td>2</td>\n      <td>2222</td>\n      <td>2222.사당역 12번출구 뒤</td>\n      <td>정기권</td>\n      <td>U</td>\n      <td>30대</td>\n      <td>549.60</td>\n      <td>1124</td>\n      <td>발산역 6번출구옆(다이소앞)</td>\n      <td>2019-10-03 오전 4:03:32</td>\n      <td>SPB-24365</td>\n      <td>4.74</td>\n      <td>20410</td>\n      <td>81</td>\n    </tr>\n    <tr>\n      <th>163</th>\n      <td>2019-10-03</td>\n      <td>2</td>\n      <td>903</td>\n      <td>903. 은평뉴타운 아이파크</td>\n      <td>정기권</td>\n      <td>M</td>\n      <td>50대</td>\n      <td>319.57</td>\n      <td>184</td>\n      <td>SK망원동주유소 건너편</td>\n      <td>2019-10-03 오전 5:11:40</td>\n      <td>SPB-14422</td>\n      <td>3.12</td>\n      <td>13450</td>\n      <td>131</td>\n    </tr>\n    <tr>\n      <th>247</th>\n      <td>2019-10-03</td>\n      <td>3</td>\n      <td>2505</td>\n      <td>2505. 우성아파트사거리 (기업은행앞)</td>\n      <td>일일권</td>\n      <td>U</td>\n      <td>30대</td>\n      <td>373.51</td>\n      <td>1201</td>\n      <td>가락시장역 3번 출구</td>\n      <td>2019-10-03 오전 4:49:48</td>\n      <td>SPB-23456</td>\n      <td>2.74</td>\n      <td>11790</td>\n      <td>64</td>\n    </tr>\n    <tr>\n      <th>...</th>\n      <td>...</td>\n      <td>...</td>\n      <td>...</td>\n      <td>...</td>\n      <td>...</td>\n      <td>...</td>\n      <td>...</td>\n      <td>...</td>\n      <td>...</td>\n      <td>...</td>\n      <td>...</td>\n      <td>...</td>\n      <td>...</td>\n      <td>...</td>\n      <td>...</td>\n    </tr>\n    <tr>\n      <th>36564</th>\n      <td>2019-10-05</td>\n      <td>23</td>\n      <td>933</td>\n      <td>933. LG서비스 역촌점</td>\n      <td>일일권</td>\n      <td>F</td>\n      <td>20대</td>\n      <td>220.41</td>\n      <td>418</td>\n      <td>월드컵경기장역 3번출구 옆</td>\n      <td>2019-10-06 오전 12:29:02</td>\n      <td>SPB-07222</td>\n      <td>2.81</td>\n      <td>12100</td>\n      <td>87</td>\n    </tr>\n    <tr>\n      <th>36569</th>\n      <td>2019-10-05</td>\n      <td>23</td>\n      <td>148</td>\n      <td>148. 용강동 주민센터 앞</td>\n      <td>일일권</td>\n      <td>F</td>\n      <td>30대</td>\n      <td>335.94</td>\n      <td>146</td>\n      <td>마포역 2번출구 뒤</td>\n      <td>2019-10-06 오전 1:05:07</td>\n      <td>SPB-21082</td>\n      <td>3.64</td>\n      <td>15710</td>\n      <td>85</td>\n    </tr>\n    <tr>\n      <th>36575</th>\n      <td>2019-10-05</td>\n      <td>23</td>\n      <td>437</td>\n      <td>437. 대흥역 1번출구</td>\n      <td>일일권</td>\n      <td>M</td>\n      <td>20대</td>\n      <td>346.10</td>\n      <td>437</td>\n      <td>대흥역 1번출구</td>\n      <td>2019-10-06 오전 1:26:17</td>\n      <td>SPB-25415</td>\n      <td>2.67</td>\n      <td>11500</td>\n      <td>109</td>\n    </tr>\n    <tr>\n      <th>36581</th>\n      <td>2019-10-05</td>\n      <td>23</td>\n      <td>641</td>\n      <td>641. 용두역 4번출구</td>\n      <td>일일권</td>\n      <td>M</td>\n      <td>20대</td>\n      <td>303.22</td>\n      <td>583</td>\n      <td>청계천 생태교실 앞</td>\n      <td>2019-10-06 오전 12:09:02</td>\n      <td>SPB-19379</td>\n      <td>2.73</td>\n      <td>11780</td>\n      <td>57</td>\n    </tr>\n    <tr>\n      <th>36585</th>\n      <td>2019-10-05</td>\n      <td>23</td>\n      <td>648</td>\n      <td>648. 장안동위더스빌옆</td>\n      <td>일일권</td>\n      <td>M</td>\n      <td>30대</td>\n      <td>824.45</td>\n      <td>398</td>\n      <td>을지로3가역 3번출구</td>\n      <td>2019-10-06 오전 12:11:27</td>\n      <td>SPB-22806</td>\n      <td>7.43</td>\n      <td>32030</td>\n      <td>37</td>\n    </tr>\n  </tbody>\n</table>\n<p>3058 rows × 15 columns</p>\n</div>"
     },
     "metadata": {},
     "execution_count": 68
    }
   ],
   "source": [
    "bike_data.iloc[outliers]"
   ]
  },
  {
   "cell_type": "code",
   "execution_count": null,
   "metadata": {},
   "outputs": [],
   "source": []
  }
 ]
}