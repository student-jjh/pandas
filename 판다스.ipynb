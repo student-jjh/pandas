{
 "metadata": {
  "language_info": {
   "codemirror_mode": {
    "name": "ipython",
    "version": 3
   },
   "file_extension": ".py",
   "mimetype": "text/x-python",
   "name": "python",
   "nbconvert_exporter": "python",
   "pygments_lexer": "ipython3",
   "version": "3.9.0"
  },
  "orig_nbformat": 2,
  "kernelspec": {
   "name": "python390jvsc74a57bd0aee8b7b246df8f9039afb4144a1f6fd8d2ca17a180786b69acc140d282b71a49",
   "display_name": "Python 3.9.0 64-bit"
  },
  "metadata": {
   "interpreter": {
    "hash": "aee8b7b246df8f9039afb4144a1f6fd8d2ca17a180786b69acc140d282b71a49"
   }
  }
 },
 "nbformat": 4,
 "nbformat_minor": 2,
 "cells": [
  {
   "source": [
    "import pandas as pd \n",
    "s=pd.Series(['banaan',42])\n",
    "s2=pd.Series(['Wes McKinney','Creator of Pandas'],index=['Person',\"who\"])\n",
    "print(s)\n",
    "print(s2)"
   ],
   "cell_type": "code",
   "metadata": {},
   "execution_count": 9,
   "outputs": [
    {
     "output_type": "stream",
     "name": "stdout",
     "text": [
      "0    banaan\n1        42\ndtype: object\nPerson         Wes McKinney\nwho       Creator of Pandas\ndtype: object\n"
     ]
    }
   ]
  },
  {
   "cell_type": "code",
   "execution_count": 10,
   "metadata": {},
   "outputs": [
    {
     "output_type": "stream",
     "name": "stdout",
     "text": [
      "                Name   Occupation        Born        Died  Age\n0  Rosaline Franklin      Chemist  1920-07-25  1958-04-16   37\n1     William Gosset  Statisician  1876-06-13  1937-10-16   61\n"
     ]
    }
   ],
   "source": [
    "scientists=pd.DataFrame({'Name':['Rosaline Franklin','William Gosset'],'Occupation':['Chemist','Statisician'],'Born':['1920-07-25','1876-06-13'],'Died':['1958-04-16','1937-10-16'],'Age':[37,61]})\n",
    "print(scientists)\n"
   ]
  },
  {
   "cell_type": "code",
   "execution_count": 14,
   "metadata": {},
   "outputs": [
    {
     "output_type": "stream",
     "name": "stdout",
     "text": [
      "                    Occupation        Born        Died  Age\nRosaline Franklin      Chemist  1920-07-25  1958-04-16   37\nWilliam Gosset     Statisician  1876-06-13  1937-10-16   61\n"
     ]
    }
   ],
   "source": [
    "scientists2=pd.DataFrame(data={'Occupation':['Chemist','Statisician'],'Born':['1920-07-25','1876-06-13'],'Died':['1958-04-16','1937-10-16'],'Age':[37,61]},index=['Rosaline Franklin','William Gosset'],columns=[\"Occupation\",\"Born\",\"Died\",\"Age\"])\n",
    "print(scientists2)"
   ]
  },
  {
   "cell_type": "code",
   "execution_count": 18,
   "metadata": {},
   "outputs": [
    {
     "output_type": "stream",
     "name": "stdout",
     "text": [
      "<class 'pandas.core.series.Series'>\n"
     ]
    }
   ],
   "source": [
    "frist_row =scientists2.loc['William Gosset']\n",
    "print(type(frist_row))"
   ]
  },
  {
   "cell_type": "code",
   "execution_count": 19,
   "metadata": {},
   "outputs": [
    {
     "output_type": "stream",
     "name": "stdout",
     "text": [
      "Occupation    Statisician\nBorn           1876-06-13\nDied           1937-10-16\nAge                    61\nName: William Gosset, dtype: object\n"
     ]
    }
   ],
   "source": [
    "print(frist_row)"
   ]
  },
  {
   "cell_type": "code",
   "execution_count": 20,
   "metadata": {},
   "outputs": [
    {
     "output_type": "stream",
     "name": "stdout",
     "text": [
      "Index(['Occupation', 'Born', 'Died', 'Age'], dtype='object')\n"
     ]
    }
   ],
   "source": [
    "print(frist_row.index)"
   ]
  },
  {
   "cell_type": "code",
   "execution_count": 21,
   "metadata": {},
   "outputs": [
    {
     "output_type": "stream",
     "name": "stdout",
     "text": [
      "['Statisician' '1876-06-13' '1937-10-16' 61]\n"
     ]
    }
   ],
   "source": [
    "print(frist_row.values)"
   ]
  },
  {
   "cell_type": "code",
   "execution_count": 22,
   "metadata": {},
   "outputs": [
    {
     "output_type": "stream",
     "name": "stdout",
     "text": [
      "Rosaline Franklin    37\nWilliam Gosset       61\nName: Age, dtype: int64\n"
     ]
    }
   ],
   "source": [
    "ages=scientists2['Age']\n",
    "print(ages)"
   ]
  },
  {
   "cell_type": "code",
   "execution_count": 23,
   "metadata": {},
   "outputs": [
    {
     "output_type": "stream",
     "name": "stdout",
     "text": [
      "49.0\n"
     ]
    }
   ],
   "source": [
    "print(ages.mean())"
   ]
  },
  {
   "cell_type": "code",
   "execution_count": 24,
   "metadata": {},
   "outputs": [
    {
     "output_type": "stream",
     "name": "stdout",
     "text": [
      "count     2.000000\nmean     49.000000\nstd      16.970563\nmin      37.000000\n25%      43.000000\n50%      49.000000\n75%      55.000000\nmax      61.000000\nName: Age, dtype: float64\n"
     ]
    }
   ],
   "source": [
    "print(ages.describe())"
   ]
  },
  {
   "cell_type": "code",
   "execution_count": 29,
   "metadata": {},
   "outputs": [],
   "source": [
    "scientists3=pd.read_csv(\"scientists.csv\")"
   ]
  },
  {
   "cell_type": "code",
   "execution_count": 32,
   "metadata": {},
   "outputs": [
    {
     "output_type": "stream",
     "name": "stdout",
     "text": [
      "                   Name        Born        Died  Age    Occupation\n0     Rosaline Franklin  1920-07-25  1958-04-16   37       Chemist\n1        William Gosset  1876-06-13  1937-10-16   61  Statistician\n2  Florence Nightingale  1820-05-12  1910-08-13   90         Nurse\n3           Marie Curie  1867-11-07  1934-07-04   66       Chemist\n4         Rachel Carson  1907-05-27  1964-04-14   56     Biologist\n"
     ]
    }
   ],
   "source": [
    "age=scientists3[\"Age\"]\n",
    "print(scientists3.head())"
   ]
  },
  {
   "cell_type": "code",
   "execution_count": 35,
   "metadata": {},
   "outputs": [
    {
     "output_type": "stream",
     "name": "stdout",
     "text": [
      "90\n"
     ]
    }
   ],
   "source": [
    "print(age.max())"
   ]
  },
  {
   "cell_type": "code",
   "execution_count": 37,
   "metadata": {},
   "outputs": [
    {
     "output_type": "stream",
     "name": "stdout",
     "text": [
      "0    False\n1     True\n2     True\n3     True\n4    False\n5    False\n6    False\n7     True\nName: Age, dtype: bool\n"
     ]
    }
   ],
   "source": [
    "print(age>age.mean())"
   ]
  },
  {
   "cell_type": "code",
   "execution_count": 38,
   "metadata": {},
   "outputs": [
    {
     "output_type": "stream",
     "name": "stdout",
     "text": [
      "0     74\n1    122\n2    180\n3    132\n4    112\n5     90\n6     82\n7    154\nName: Age, dtype: int64\n"
     ]
    }
   ],
   "source": [
    "print(age+age)"
   ]
  },
  {
   "cell_type": "code",
   "execution_count": 39,
   "metadata": {},
   "outputs": [
    {
     "output_type": "stream",
     "name": "stdout",
     "text": [
      "0    1369\n1    3721\n2    8100\n3    4356\n4    3136\n5    2025\n6    1681\n7    5929\nName: Age, dtype: int64\n"
     ]
    }
   ],
   "source": [
    "print(age*age)"
   ]
  },
  {
   "cell_type": "code",
   "execution_count": null,
   "metadata": {},
   "outputs": [],
   "source": []
  }
 ]
}